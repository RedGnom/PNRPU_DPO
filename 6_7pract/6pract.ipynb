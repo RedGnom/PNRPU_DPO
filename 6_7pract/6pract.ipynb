{
 "cells": [
  {
   "cell_type": "markdown",
   "id": "4d39bfce-b522-4b1e-a0dd-9736b017ff83",
   "metadata": {},
   "source": [
    "1"
   ]
  },
  {
   "cell_type": "code",
   "execution_count": 2,
   "id": "4de67b15-acc9-42f2-9316-0fbe90c64de1",
   "metadata": {},
   "outputs": [
    {
     "name": "stdout",
     "output_type": "stream",
     "text": [
      "0     a\n",
      "1     b\n",
      "2     c\n",
      "3     e\n",
      "4     d\n",
      "5     f\n",
      "6     g\n",
      "7     h\n",
      "8     i\n",
      "9     j\n",
      "10    k\n",
      "11    l\n",
      "12    m\n",
      "13    n\n",
      "14    o\n",
      "15    p\n",
      "16    q\n",
      "17    r\n",
      "18    s\n",
      "19    t\n",
      "20    u\n",
      "21    v\n",
      "22    w\n",
      "23    x\n",
      "24    y\n",
      "25    z\n",
      "dtype: object 0      0\n",
      "1      1\n",
      "2      2\n",
      "3      3\n",
      "4      4\n",
      "5      5\n",
      "6      6\n",
      "7      7\n",
      "8      8\n",
      "9      9\n",
      "10    10\n",
      "11    11\n",
      "12    12\n",
      "13    13\n",
      "14    14\n",
      "15    15\n",
      "16    16\n",
      "17    17\n",
      "18    18\n",
      "19    19\n",
      "20    20\n",
      "21    21\n",
      "22    22\n",
      "23    23\n",
      "24    24\n",
      "25    25\n",
      "dtype: int64 a     0\n",
      "b     1\n",
      "c     2\n",
      "e     3\n",
      "d     4\n",
      "f     5\n",
      "g     6\n",
      "h     7\n",
      "i     8\n",
      "j     9\n",
      "k    10\n",
      "l    11\n",
      "m    12\n",
      "n    13\n",
      "o    14\n",
      "p    15\n",
      "q    16\n",
      "r    17\n",
      "s    18\n",
      "t    19\n",
      "u    20\n",
      "v    21\n",
      "w    22\n",
      "x    23\n",
      "y    24\n",
      "z    25\n",
      "dtype: int64\n"
     ]
    }
   ],
   "source": [
    "import pandas as pd\n",
    "import numpy as np\n",
    "mylist = list('abcedfghijklmnopqrstuvwxyz')\n",
    "myarr = np.arange(26)\n",
    "mydict = dict(zip(mylist, myarr))\n",
    "series1 = pd.Series(mylist)\n",
    "series2 = pd.Series(myarr)\n",
    "series3 = pd.Series(mydict)\n",
    "print(series1, series2, series3)\n"
   ]
  },
  {
   "cell_type": "markdown",
   "id": "bffb8d22-5065-42d7-a3ce-6d0bca50be3e",
   "metadata": {},
   "source": [
    "2"
   ]
  },
  {
   "cell_type": "code",
   "execution_count": 3,
   "id": "db904c87-8de5-46a8-9085-c52d31b5fca9",
   "metadata": {},
   "outputs": [
    {
     "name": "stdout",
     "output_type": "stream",
     "text": [
      "   index  values\n",
      "0      a       0\n",
      "1      b       1\n",
      "2      c       2\n",
      "3      e       3\n",
      "4      d       4\n",
      "5      f       5\n",
      "6      g       6\n",
      "7      h       7\n",
      "8      i       8\n",
      "9      j       9\n",
      "10     k      10\n",
      "11     l      11\n",
      "12     m      12\n",
      "13     n      13\n",
      "14     o      14\n",
      "15     p      15\n",
      "16     q      16\n",
      "17     r      17\n",
      "18     s      18\n",
      "19     t      19\n",
      "20     u      20\n",
      "21     v      21\n",
      "22     w      22\n",
      "23     x      23\n",
      "24     y      24\n",
      "25     z      25\n"
     ]
    }
   ],
   "source": [
    "import numpy as np\n",
    "import pandas as pd\n",
    "mylist = list('abcedfghijklmnopqrstuvwxyz')\n",
    "myarr = np.arange(26)\n",
    "mydict = dict(zip(mylist, myarr))\n",
    "ser = pd.Series(mydict)\n",
    "df = pd.DataFrame({'index': ser.index, 'values': ser.values})\n",
    "print(df)"
   ]
  },
  {
   "cell_type": "markdown",
   "id": "e2c4f287-15c1-47b8-bfaa-4604ca1a996b",
   "metadata": {},
   "source": [
    "3"
   ]
  },
  {
   "cell_type": "code",
   "execution_count": 4,
   "id": "1b86eb42-fe44-4d32-b442-85053d6653e5",
   "metadata": {},
   "outputs": [
    {
     "name": "stdout",
     "output_type": "stream",
     "text": [
      "0      a\n",
      "1      b\n",
      "2      c\n",
      "3      e\n",
      "4      d\n",
      "5      f\n",
      "6      g\n",
      "7      h\n",
      "8      i\n",
      "9      j\n",
      "10     k\n",
      "11     l\n",
      "12     m\n",
      "13     n\n",
      "14     o\n",
      "15     p\n",
      "16     q\n",
      "17     r\n",
      "18     s\n",
      "19     t\n",
      "20     u\n",
      "21     v\n",
      "22     w\n",
      "23     x\n",
      "24     y\n",
      "25     z\n",
      "26     0\n",
      "27     1\n",
      "28     2\n",
      "29     3\n",
      "30     4\n",
      "31     5\n",
      "32     6\n",
      "33     7\n",
      "34     8\n",
      "35     9\n",
      "36    10\n",
      "37    11\n",
      "38    12\n",
      "39    13\n",
      "40    14\n",
      "41    15\n",
      "42    16\n",
      "43    17\n",
      "44    18\n",
      "45    19\n",
      "46    20\n",
      "47    21\n",
      "48    22\n",
      "49    23\n",
      "50    24\n",
      "51    25\n",
      "dtype: object\n"
     ]
    }
   ],
   "source": [
    "df2 = pd.concat([series1, series2], ignore_index=True)\n",
    "print(df2)"
   ]
  },
  {
   "cell_type": "markdown",
   "id": "395ddf3c-c7e7-44e8-99a8-352f0e88d163",
   "metadata": {},
   "source": [
    "4"
   ]
  },
  {
   "cell_type": "code",
   "execution_count": 5,
   "id": "6108e09f-73d4-41ab-8ae6-dfe3bf493249",
   "metadata": {},
   "outputs": [
    {
     "name": "stdout",
     "output_type": "stream",
     "text": [
      "0     a\n",
      "1     b\n",
      "2     c\n",
      "3     e\n",
      "4     d\n",
      "5     f\n",
      "6     g\n",
      "7     h\n",
      "8     i\n",
      "9     j\n",
      "10    k\n",
      "11    l\n",
      "12    m\n",
      "13    n\n",
      "14    o\n",
      "15    p\n",
      "16    q\n",
      "17    r\n",
      "18    s\n",
      "19    t\n",
      "20    u\n",
      "21    v\n",
      "22    w\n",
      "23    x\n",
      "24    y\n",
      "25    z\n",
      "Name: latin_letters, dtype: object\n"
     ]
    }
   ],
   "source": [
    "ser = pd.Series(list('abcedfghijklmnopqrstuvwxyz'))\n",
    "ser.name = 'latin_letters'\n",
    "\n",
    "print(ser)\n"
   ]
  },
  {
   "cell_type": "markdown",
   "id": "96ee353c-09b3-49a1-ba97-7b47dba1969f",
   "metadata": {},
   "source": [
    "5"
   ]
  },
  {
   "cell_type": "code",
   "execution_count": 6,
   "id": "7f93e50e-d401-4eb3-aa7e-09ff05db5b89",
   "metadata": {},
   "outputs": [
    {
     "name": "stdout",
     "output_type": "stream",
     "text": [
      "0    1\n",
      "1    2\n",
      "2    3\n",
      "dtype: int64\n"
     ]
    }
   ],
   "source": [
    "ser1 = pd.Series([1, 2, 3, 4, 5])\n",
    "ser2 = pd.Series([4, 5, 6, 7, 8])\n",
    "\n",
    "\n",
    "ser1 = ser1[~ser1.isin(ser2)]\n",
    "\n",
    "\n",
    "print(ser1)\n"
   ]
  },
  {
   "cell_type": "markdown",
   "id": "8cd29dde",
   "metadata": {},
   "source": [
    "6"
   ]
  },
  {
   "cell_type": "code",
   "execution_count": 7,
   "id": "d7f2f966",
   "metadata": {},
   "outputs": [
    {
     "name": "stdout",
     "output_type": "stream",
     "text": [
      "0    1\n",
      "1    2\n",
      "2    3\n",
      "5    6\n",
      "6    7\n",
      "7    8\n",
      "dtype: int64\n"
     ]
    }
   ],
   "source": [
    "ser1 = pd.Series([1, 2, 3, 4, 5])\n",
    "ser2 = pd.Series([4, 5, 6, 7, 8])\n",
    "union = pd.Series(np.union1d(ser1,ser2))\n",
    "intersect = pd.Series(np.intersect1d(ser1, ser2))\n",
    "notcommonseries = union[~union.isin(intersect)]\n",
    "print(notcommonseries)"
   ]
  },
  {
   "cell_type": "markdown",
   "id": "650dafff",
   "metadata": {},
   "source": [
    "7"
   ]
  },
  {
   "cell_type": "code",
   "execution_count": 8,
   "id": "06f90aa5",
   "metadata": {},
   "outputs": [
    {
     "name": "stdout",
     "output_type": "stream",
     "text": [
      "0     15.954219\n",
      "1      6.518573\n",
      "2     10.222779\n",
      "3     10.236242\n",
      "4     10.623390\n",
      "5      8.595762\n",
      "6     14.929509\n",
      "7      8.641770\n",
      "8     12.833017\n",
      "9      3.145667\n",
      "10    10.295582\n",
      "11    15.452923\n",
      "12     4.140690\n",
      "13    19.987078\n",
      "14    13.352205\n",
      "15     7.941372\n",
      "16    13.036745\n",
      "17    11.670386\n",
      "18     9.631466\n",
      "19    11.137989\n",
      "20     4.109775\n",
      "21    18.759892\n",
      "22     1.227399\n",
      "23    18.576963\n",
      "24    14.016611\n",
      "dtype: float64\n",
      "[ 1.22739897  8.59576202 10.62339035 14.01661088 19.98707803]\n"
     ]
    }
   ],
   "source": [
    "ser = pd.Series(np.random.normal(10, 5, 25))\n",
    "result = np.percentile(ser, q=[0, 25, 50, 75, 100])\n",
    "print(ser)\n",
    "print(result)"
   ]
  },
  {
   "cell_type": "markdown",
   "id": "bd7192b9",
   "metadata": {},
   "source": [
    "8"
   ]
  },
  {
   "cell_type": "code",
   "execution_count": 9,
   "id": "a8281c03",
   "metadata": {},
   "outputs": [
    {
     "name": "stdout",
     "output_type": "stream",
     "text": [
      "a    6\n",
      "d    4\n",
      "f    4\n",
      "h    4\n",
      "g    3\n",
      "e    3\n",
      "b    3\n",
      "c    3\n",
      "Name: count, dtype: int64\n"
     ]
    }
   ],
   "source": [
    "ser = pd.Series(np.take(list('abcdefgh'), np.random.randint(8, size=30)))\n",
    "result = (ser.value_counts())\n",
    "print(result)"
   ]
  },
  {
   "cell_type": "markdown",
   "id": "76a22782",
   "metadata": {},
   "source": [
    "9"
   ]
  },
  {
   "cell_type": "code",
   "execution_count": 10,
   "id": "751696e6",
   "metadata": {},
   "outputs": [
    {
     "name": "stdout",
     "output_type": "stream",
     "text": [
      "0          1\n",
      "1     Прочее\n",
      "2          1\n",
      "3          1\n",
      "4          1\n",
      "5     Прочее\n",
      "6          2\n",
      "7          1\n",
      "8          2\n",
      "9     Прочее\n",
      "10         2\n",
      "11    Прочее\n",
      "dtype: object\n"
     ]
    }
   ],
   "source": [
    "np.random.RandomState(100)\n",
    "ser = pd.Series(np.random.randint(1, 5, [12]))\n",
    "top_two = ser.value_counts().head(2).index\n",
    "ser = ser.apply(lambda x: x if x in top_two else 'Прочее')\n",
    "print(ser)"
   ]
  },
  {
   "cell_type": "markdown",
   "id": "e7ba1117-44d7-404a-a2fc-acfaae52336d",
   "metadata": {},
   "source": [
    "10"
   ]
  },
  {
   "cell_type": "code",
   "execution_count": 11,
   "id": "7f38842a-a49e-4c40-b8dd-54f75c13e42e",
   "metadata": {},
   "outputs": [
    {
     "name": "stdout",
     "output_type": "stream",
     "text": [
      "0      Дециль 3\n",
      "1      Дециль 3\n",
      "2      Дециль 4\n",
      "3      Дециль 1\n",
      "4      Дециль 5\n",
      "5      Дециль 8\n",
      "6      Дециль 2\n",
      "7      Дециль 2\n",
      "8      Дециль 8\n",
      "9      Дециль 4\n",
      "10     Дециль 9\n",
      "11     Дециль 1\n",
      "12     Дециль 5\n",
      "13     Дециль 7\n",
      "14     Дециль 7\n",
      "15     Дециль 9\n",
      "16     Дециль 6\n",
      "17    Дециль 10\n",
      "18     Дециль 6\n",
      "19    Дециль 10\n",
      "dtype: category\n",
      "Categories (10, object): ['Дециль 1' < 'Дециль 2' < 'Дециль 3' < 'Дециль 4' ... 'Дециль 7' < 'Дециль 8' < 'Дециль 9' < 'Дециль 10']\n"
     ]
    }
   ],
   "source": [
    "ser = pd.Series(np.random.random(20))\n",
    "deciles = pd.qcut(ser, 10, labels=[\"Дециль 1\", \"Дециль 2\", \"Дециль 3\", \"Дециль 4\", \"Дециль 5\", \"Дециль 6\", \"Дециль 7\", \"Дециль 8\", \"Дециль 9\", \"Дециль 10\"])\n",
    "print(deciles)\n"
   ]
  },
  {
   "cell_type": "markdown",
   "id": "22bcbe03-312e-4739-81b1-2f20b706c944",
   "metadata": {},
   "source": [
    "11"
   ]
  },
  {
   "cell_type": "code",
   "execution_count": 12,
   "id": "e992f1dd-0741-4865-a004-a8ac3a6ca368",
   "metadata": {},
   "outputs": [
    {
     "name": "stdout",
     "output_type": "stream",
     "text": [
      "   Column_1  Column_2  Column_3  Column_4  Column_5\n",
      "0         7         1         4         9         2\n",
      "1         8         9         2         5         3\n",
      "2         2         1         2         3         1\n",
      "3         3         6         1         3         4\n",
      "4         2         7         2         3         4\n",
      "5         6         9         3         4         7\n",
      "6         5         1         6         4         7\n"
     ]
    }
   ],
   "source": [
    "ser = pd.Series(np.random.randint(1, 10, 35))\n",
    "df = pd.DataFrame(ser.values.reshape(7, 5), columns=[f\"Column_{i+1}\" for i in range(5)])\n",
    "print(df)"
   ]
  },
  {
   "cell_type": "markdown",
   "id": "9876c65c-f733-490a-bde4-734e25eb6455",
   "metadata": {},
   "source": [
    "12"
   ]
  },
  {
   "cell_type": "code",
   "execution_count": 13,
   "id": "453c9439-ebf8-4250-8a6c-962911127755",
   "metadata": {},
   "outputs": [
    {
     "name": "stdout",
     "output_type": "stream",
     "text": [
      "2    6\n",
      "3    9\n",
      "4    3\n",
      "dtype: int32\n"
     ]
    }
   ],
   "source": [
    "ser = pd.Series(np.random.randint(1, 10, 7))\n",
    "result = ser[ser%3==0]\n",
    "print(result)"
   ]
  },
  {
   "cell_type": "markdown",
   "id": "4e96dea6-7ff0-432e-b92a-1189d8bf7093",
   "metadata": {},
   "source": [
    "13"
   ]
  },
  {
   "cell_type": "code",
   "execution_count": 14,
   "id": "77ec6731-4c40-4649-93d4-881426c8d50e",
   "metadata": {},
   "outputs": [
    {
     "name": "stdout",
     "output_type": "stream",
     "text": [
      "a\n",
      "e\n",
      "i\n",
      "o\n",
      "u\n"
     ]
    }
   ],
   "source": [
    "import pandas as pd\n",
    "ser = pd.Series(list('abcdefghijklmnopqrstuvwxyz'))\n",
    "pos = [0, 4, 8, 14, 20]\n",
    "for i in pos:\n",
    "    print(ser.iloc[i])"
   ]
  },
  {
   "cell_type": "markdown",
   "id": "dd4dea6e-e529-4c37-8226-03bd1264cca3",
   "metadata": {},
   "source": [
    "14"
   ]
  },
  {
   "cell_type": "code",
   "execution_count": 15,
   "id": "ca87222d-299f-4277-b9dc-ca319559ffff",
   "metadata": {},
   "outputs": [
    {
     "name": "stdout",
     "output_type": "stream",
     "text": [
      "Объединение по горизонтали:\n",
      " 0    0\n",
      "1    1\n",
      "2    2\n",
      "3    3\n",
      "4    4\n",
      "5    a\n",
      "6    b\n",
      "7    c\n",
      "8    d\n",
      "9    e\n",
      "dtype: object\n",
      "\n",
      "Объединение по вертикали:\n",
      "    0  1\n",
      "0  0  a\n",
      "1  1  b\n",
      "2  2  c\n",
      "3  3  d\n",
      "4  4  e\n"
     ]
    }
   ],
   "source": [
    "ser1 = pd.Series(range(5))\n",
    "ser2 = pd.Series(list('abcde'))\n",
    "vertical_concat = pd.concat([ser1, ser2], axis=0).reset_index(drop=True)\n",
    "print(\"Объединение по горизонтали:\\n\",vertical_concat)\n",
    "horizontal_concat = pd.concat([ser1, ser2], axis=1)\n",
    "print(\"\\nОбъединение по вертикали:\\n\",horizontal_concat)\n"
   ]
  },
  {
   "cell_type": "markdown",
   "id": "20cc18e0-9ab4-48bb-b42d-2a15607b02fd",
   "metadata": {},
   "source": [
    "15"
   ]
  },
  {
   "cell_type": "code",
   "execution_count": 16,
   "id": "dc392f12-f5a3-46fd-826b-9d2d12396962",
   "metadata": {},
   "outputs": [
    {
     "name": "stdout",
     "output_type": "stream",
     "text": [
      "[5, 4, 0, 8]\n"
     ]
    }
   ],
   "source": [
    "ser1 = pd.Series([10, 9, 6, 5, 3, 1, 12, 8, 13])\n",
    "ser2 = pd.Series([1, 3, 10, 13])\n",
    "\n",
    "print([int(ser1[ser1 == value].index[0]) for value in ser2])"
   ]
  },
  {
   "cell_type": "markdown",
   "id": "5d640476-dde8-42f4-a510-ac186c3f50e7",
   "metadata": {},
   "source": [
    "16"
   ]
  },
  {
   "cell_type": "code",
   "execution_count": 17,
   "id": "459f66ad-1557-4aa0-839e-fbe6af21b3c3",
   "metadata": {},
   "outputs": [
    {
     "name": "stdout",
     "output_type": "stream",
     "text": [
      "0.3284003545603834\n"
     ]
    }
   ],
   "source": [
    "import numpy as np\n",
    "truth = pd.Series(range(10))\n",
    "pred = pd.Series(range(10)) + np.random.random(10)\n",
    "\n",
    "print(((truth - pred) ** 2).mean())"
   ]
  },
  {
   "cell_type": "markdown",
   "id": "55981355-e6d7-4cd5-8704-d4240c4da96c",
   "metadata": {},
   "source": [
    "17"
   ]
  },
  {
   "cell_type": "code",
   "execution_count": 18,
   "id": "b69b2ec7-668d-466e-a877-ad7e2d447e32",
   "metadata": {},
   "outputs": [
    {
     "name": "stdout",
     "output_type": "stream",
     "text": [
      "0     How\n",
      "1      To\n",
      "2    Kick\n",
      "3    Ass?\n",
      "dtype: object\n"
     ]
    }
   ],
   "source": [
    "ser = pd.Series(['how', 'to', 'kick', 'ass?'])\n",
    "\n",
    "print(ser.str.capitalize())"
   ]
  },
  {
   "cell_type": "markdown",
   "id": "0f925b5f-b9d0-4111-89c5-4c03e20b06a2",
   "metadata": {},
   "source": [
    "18"
   ]
  },
  {
   "cell_type": "code",
   "execution_count": 19,
   "id": "6ad5818c-e81d-4108-b067-6d4ba7c55b09",
   "metadata": {},
   "outputs": [
    {
     "name": "stdout",
     "output_type": "stream",
     "text": [
      "0    3\n",
      "1    2\n",
      "2    4\n",
      "3    4\n",
      "dtype: int64\n"
     ]
    }
   ],
   "source": [
    "ser = pd.Series(['how', 'to', 'kick', 'ass?'])\n",
    "\n",
    "print(ser.apply(len))"
   ]
  },
  {
   "cell_type": "markdown",
   "id": "a38aa264-5f3b-4b50-8582-5c75a07baa4d",
   "metadata": {},
   "source": [
    "19"
   ]
  },
  {
   "cell_type": "code",
   "execution_count": 20,
   "id": "786a9a6f-2c2d-4d88-ab0b-748edbdf0391",
   "metadata": {},
   "outputs": [
    {
     "name": "stdout",
     "output_type": "stream",
     "text": [
      "Первая разность:\n",
      " [nan, 2.0, 3.0, 4.0, 5.0, 6.0, 6.0, 8.0]\n",
      "Вторая разность:\n",
      " [nan, nan, 1.0, 1.0, 1.0, 1.0, 0.0, 2.0]\n"
     ]
    }
   ],
   "source": [
    "ser = pd.Series([1, 3, 6, 10, 15, 21, 27, 35])\n",
    "\n",
    "print(\"Первая разность:\\n\", ser.diff().to_list())\n",
    "print(\"Вторая разность:\\n\", ser.diff().diff().to_list())"
   ]
  },
  {
   "cell_type": "markdown",
   "id": "14c38257-3719-461d-83b3-0a60c18ca71e",
   "metadata": {},
   "source": [
    "20"
   ]
  },
  {
   "cell_type": "code",
   "execution_count": 21,
   "id": "8f54a753-f199-4ec2-b77e-83cb520a4222",
   "metadata": {},
   "outputs": [
    {
     "name": "stdout",
     "output_type": "stream",
     "text": [
      "0   2010-01-01 00:00:00\n",
      "1   2011-02-02 00:00:00\n",
      "2   2012-03-03 00:00:00\n",
      "3   2013-04-04 00:00:00\n",
      "4   2014-05-05 00:00:00\n",
      "5   2015-06-06 12:20:00\n",
      "dtype: datetime64[ns]\n"
     ]
    }
   ],
   "source": [
    "from dateutil import parser\n",
    "ser = pd.Series(['01 Jan 2010', '02-02-2011', '20120303', '2013/04/04', '2014-05-05', '2015-06-06T12:20'])\n",
    "\n",
    "\n",
    "print(ser.apply(lambda x: parser.parse(x)))\n"
   ]
  },
  {
   "cell_type": "markdown",
   "id": "411ead28-1571-47ee-8bae-48938fc4a4c4",
   "metadata": {},
   "source": [
    "21"
   ]
  },
  {
   "cell_type": "code",
   "execution_count": 22,
   "id": "6de04a20-9922-4367-aa7c-f60c285eae10",
   "metadata": {},
   "outputs": [
    {
     "name": "stdout",
     "output_type": "stream",
     "text": [
      "Номер дня в месяце: [1, 2, 3, 4, 5, 6]\n",
      "Номер недели: [53, 5, 9, 14, 19, 23]\n",
      "Номер дня в году: [1, 33, 63, 94, 125, 157]\n",
      "День недели: ['Friday', 'Wednesday', 'Saturday', 'Thursday', 'Monday', 'Saturday']\n"
     ]
    }
   ],
   "source": [
    "ser = pd.Series(['01 Jan 2010', '02-02-2011', '20120303', '2013/04/04', '2014-05-05', '2015-06-06T12:20'])\n",
    "\n",
    "from dateutil import parser\n",
    "ser_datetime = ser.apply(lambda x: parser.parse(x))\n",
    "day_of_month = ser_datetime.dt.day.tolist()\n",
    "week_number = ser_datetime.dt.isocalendar().week.tolist()\n",
    "day_of_year = ser_datetime.dt.dayofyear.tolist()\n",
    "day_of_week = ser_datetime.dt.day_name().tolist()\n",
    "\n",
    "print(\"Номер дня в месяце:\", day_of_month)\n",
    "print(\"Номер недели:\", week_number)\n",
    "print(\"Номер дня в году:\", day_of_year)\n",
    "print(\"День недели:\", day_of_week)"
   ]
  },
  {
   "cell_type": "markdown",
   "id": "eab4c84f-bc45-4f38-95fc-ff96a4286dcd",
   "metadata": {},
   "source": [
    "22"
   ]
  },
  {
   "cell_type": "code",
   "execution_count": 23,
   "id": "d33ff189-fc6a-4d04-92b8-a3e5d49cd288",
   "metadata": {},
   "outputs": [
    {
     "name": "stdout",
     "output_type": "stream",
     "text": [
      "0   2010-01-04\n",
      "1   2011-02-04\n",
      "2   2012-03-04\n",
      "dtype: datetime64[ns]\n"
     ]
    }
   ],
   "source": [
    "ser = pd.Series(['Jan 2010', 'Feb 2011', 'Mar 2012'])\n",
    "\n",
    "print(ser.apply(lambda x: parser.parse('04 ' + x))) "
   ]
  },
  {
   "cell_type": "markdown",
   "id": "74059c9c-0a52-471f-ad5f-537460fcb463",
   "metadata": {},
   "source": [
    "23"
   ]
  },
  {
   "cell_type": "code",
   "execution_count": 24,
   "id": "b982fa4d-9cae-494a-b511-123105e3d652",
   "metadata": {},
   "outputs": [
    {
     "name": "stdout",
     "output_type": "stream",
     "text": [
      "0     Apple\n",
      "1    Orange\n",
      "3    Python\n",
      "4     Money\n",
      "dtype: object\n"
     ]
    }
   ],
   "source": [
    "ser = pd.Series(['Apple', 'Orange', 'Plan', 'Python', 'Money'])\n",
    "\n",
    "def count_vowels(word):\n",
    "    return sum(1 for char in word.lower() if char in 'aeiouy')\n",
    "\n",
    "print(ser[ser.apply(count_vowels) >= 2])"
   ]
  },
  {
   "cell_type": "markdown",
   "id": "f6cf07d9-e955-4cfa-8d25-7673a68ea9b3",
   "metadata": {},
   "source": [
    "24"
   ]
  },
  {
   "cell_type": "code",
   "execution_count": 25,
   "id": "928c216a-9051-4cf6-aa5b-7d72f1d39c2c",
   "metadata": {},
   "outputs": [
    {
     "name": "stdout",
     "output_type": "stream",
     "text": [
      "Корректные адреса электронной почты:\n",
      "1    rameses@egypt.com\n",
      "2            matt@t.co\n",
      "3    narendra@modi.com\n",
      "dtype: object\n"
     ]
    }
   ],
   "source": [
    "import pandas as pd\n",
    "emails = pd.Series(['buying books at amazom.com', 'rameses@egypt.com', 'matt@t.co', 'narendra@modi.com'])\n",
    "pattern = '[A-Za-z0-9._%+-]+@[A-Za-z0-9.-]+\\\\.[A-Za-z]{2,4}'\n",
    "\n",
    "valid_emails = emails[emails.str.contains(pattern)]\n",
    "\n",
    "print(\"Корректные адреса электронной почты:\")\n",
    "print(valid_emails)\n"
   ]
  },
  {
   "cell_type": "markdown",
   "id": "7db32ee2-2216-485c-8746-8770ff1037ec",
   "metadata": {},
   "source": [
    "25"
   ]
  },
  {
   "cell_type": "code",
   "execution_count": 26,
   "id": "855f6637-eb9e-4f2d-a071-e21bb6aef98e",
   "metadata": {},
   "outputs": [
    {
     "name": "stdout",
     "output_type": "stream",
     "text": [
      "[1.0, 2.0, 3.0, 4.0, 5.0, 6.0, 7.0, 8.0, 9.0, 10.0]\n",
      "['apple', 'apple', 'banana', 'banana', 'carrot', 'carrot', 'apple', 'carrot', 'banana', 'apple']\n",
      "apple     5.000000\n",
      "banana    5.333333\n",
      "carrot    6.333333\n",
      "dtype: float64\n"
     ]
    }
   ],
   "source": [
    "import numpy as np\n",
    "fruit = pd.Series(np.random.choice(['apple', 'banana', 'carrot'], 10))\n",
    "weights = pd.Series(np.linspace(1, 10, 10))\n",
    "print(weights.tolist())\n",
    "print(fruit.tolist())\n",
    "\n",
    "print(weights.groupby(fruit).mean())"
   ]
  },
  {
   "cell_type": "markdown",
   "id": "7c1b1ff3-3d2e-413e-b7b4-a27fe55bc773",
   "metadata": {},
   "source": [
    "26"
   ]
  },
  {
   "cell_type": "code",
   "execution_count": 27,
   "id": "e8516a3c-0cda-4768-ba8f-e7e36e47e2de",
   "metadata": {},
   "outputs": [
    {
     "name": "stdout",
     "output_type": "stream",
     "text": [
      "Евклидово расстояние: 18.16590212458495\n"
     ]
    }
   ],
   "source": [
    "p = pd.Series([1, 2, 3, 4, 5, 6, 7, 8, 9, 10])\n",
    "q = pd.Series([10, 9, 8, 7, 6, 5, 4, 3, 2, 1])\n",
    "\n",
    "print(\"Евклидово расстояние:\", np.sqrt(np.sum((p - q) ** 2)))"
   ]
  },
  {
   "cell_type": "markdown",
   "id": "b2db0bfb-3175-4ae3-ab17-3aa7e96d5da5",
   "metadata": {},
   "source": [
    "27"
   ]
  },
  {
   "cell_type": "code",
   "execution_count": 28,
   "id": "725a1e0b-9758-465c-b2cc-b59577748583",
   "metadata": {},
   "outputs": [
    {
     "name": "stdout",
     "output_type": "stream",
     "text": [
      "(array([1, 5, 7]),)\n"
     ]
    }
   ],
   "source": [
    "ser = pd.Series([2, 10, 3, 4, 9, 10, 2, 7, 3])\n",
    "\n",
    "print(np.where((ser.shift(1) < ser) & (ser.shift(-1) < ser)))"
   ]
  },
  {
   "cell_type": "markdown",
   "id": "a6817b9e-66f4-4239-9ddb-a8ba73ce5adf",
   "metadata": {},
   "source": [
    "28"
   ]
  },
  {
   "cell_type": "code",
   "execution_count": 29,
   "id": "305cd9c7-d7b4-41fc-bf62-54ff90799409",
   "metadata": {},
   "outputs": [
    {
     "name": "stdout",
     "output_type": "stream",
     "text": [
      "dbccdebcabedcgade\n"
     ]
    }
   ],
   "source": [
    "from collections import Counter\n",
    "my_str = 'dbc deb abed gade'\n",
    "\n",
    "\n",
    "least_common_char = min(Counter(my_str.replace(' ', '')), key=Counter(my_str.replace(' ', '')).get) \n",
    "print(my_str.replace(' ', least_common_char)) "
   ]
  },
  {
   "cell_type": "markdown",
   "id": "71f9cda4-6ca3-42a3-979a-663c8fbb49a8",
   "metadata": {},
   "source": [
    "29"
   ]
  },
  {
   "cell_type": "code",
   "execution_count": 30,
   "id": "e70a33e0-6f68-4b2e-b919-ce13416fedb9",
   "metadata": {},
   "outputs": [
    {
     "name": "stdout",
     "output_type": "stream",
     "text": [
      "2000-01-01    7\n",
      "2000-01-08    9\n",
      "2000-01-15    8\n",
      "2000-01-22    9\n",
      "2000-01-29    2\n",
      "2000-02-05    8\n",
      "2000-02-12    3\n",
      "2000-02-19    5\n",
      "2000-02-26    7\n",
      "2000-03-04    4\n",
      "Freq: W-SAT, dtype: int32\n"
     ]
    }
   ],
   "source": [
    "date_range = pd.date_range(start='2000-01-01', periods=10, freq='W-SAT') \n",
    "random_values = np.random.randint(1, 10, size=10)\n",
    "print(pd.Series(data=random_values, index=date_range))"
   ]
  },
  {
   "cell_type": "markdown",
   "id": "52063d91-c6c9-4b8b-a6e7-3ed40c6dc9e7",
   "metadata": {},
   "source": [
    "30"
   ]
  },
  {
   "cell_type": "code",
   "execution_count": 31,
   "id": "80ff76ba-9e43-4363-b6ee-c9f814d6dea4",
   "metadata": {},
   "outputs": [
    {
     "name": "stdout",
     "output_type": "stream",
     "text": [
      "2000-01-01     1.0\n",
      "2000-01-03    10.0\n",
      "2000-01-06     3.0\n",
      "2000-01-08     NaN\n",
      "dtype: float64\n",
      "2000-01-01     1.0\n",
      "2000-01-02     1.0\n",
      "2000-01-03    10.0\n",
      "2000-01-04    10.0\n",
      "2000-01-05    10.0\n",
      "2000-01-06     3.0\n",
      "2000-01-07     3.0\n",
      "2000-01-08     NaN\n",
      "Freq: D, dtype: float64\n"
     ]
    }
   ],
   "source": [
    "ser = pd.Series([1,10,3,np.nan], index=pd.to_datetime(['2000-01-01', '2000-01-03', '2000-01-06', '2000-01-08']))\n",
    "print(ser)\n",
    "\n",
    "print(ser.resample('D').ffill())"
   ]
  },
  {
   "cell_type": "markdown",
   "id": "b5779e98-ae55-411a-a69e-0392b846cb27",
   "metadata": {},
   "source": [
    "31"
   ]
  },
  {
   "cell_type": "code",
   "execution_count": 32,
   "id": "2b2d7e7f-3fb2-4e76-a5e5-ae68c5a2759b",
   "metadata": {},
   "outputs": [
    {
     "name": "stdout",
     "output_type": "stream",
     "text": [
      "Автокорреляции для первых 10 лагов: [0.2807321833502456, -0.013895070638885641, 0.4349705577191398, 0.42171767882625294, 0.14571422173274387, 0.05322154337896955, 0.28624486064380195, 0.3617074984990829, -0.08817198141937414, 0.2890653315581072]\n",
      "Лаг с наибольшей корреляцией: 3\n"
     ]
    }
   ],
   "source": [
    "ser = pd.Series(np.arange(20) + np.random.normal(1, 10, 20))\n",
    "\n",
    "autocorrelations = [ser.autocorr(lag) for lag in range(1, 11)] \n",
    "max_lag = np.argmax(autocorrelations) + 1 \n",
    "autocorrelations = [float(corr) for corr in autocorrelations] \n",
    "print(\"Автокорреляции для первых 10 лагов:\", autocorrelations)\n",
    "print(\"Лаг с наибольшей корреляцией:\", max_lag)"
   ]
  },
  {
   "cell_type": "markdown",
   "id": "f3ce540c-37ea-4aa5-8d90-a47f42f8a203",
   "metadata": {},
   "source": [
    "32"
   ]
  },
  {
   "cell_type": "code",
   "execution_count": 33,
   "id": "a65a8515-fa30-4ba2-87f8-0bf3cfa331f1",
   "metadata": {},
   "outputs": [
    {
     "name": "stdout",
     "output_type": "stream",
     "text": [
      "      crim  zn  indus  chas    nox     rm   age     dis  rad  tax  ptratio  \\\n",
      "0  0.21977   0   6.91     0  0.448  5.602  62.0  6.0877    3  233     17.9   \n",
      "1  0.06860   0   2.89     0  0.445  7.416  62.5  3.4952    2  276     18.0   \n",
      "2  2.73397   0  19.58     0  0.871  5.597  94.9  1.5257    5  403     14.7   \n",
      "3  0.03150  95   1.47     0  0.403  6.975  15.3  7.6534    3  402     17.0   \n",
      "4  0.19073  22   5.86     0  0.431  6.718  17.5  7.8265    7  330     19.1   \n",
      "5  0.05561  70   2.24     0  0.400  7.041  10.0  7.8278    5  358     14.8   \n",
      "6  0.02899  40   1.25     0  0.429  6.939  34.5  8.7921    1  335     19.7   \n",
      "7  9.91655   0  18.10     0  0.693  5.852  77.8  1.5004   24  666     20.2   \n",
      "8  7.52601   0  18.10     0  0.713  6.417  98.3  2.1850   24  666     20.2   \n",
      "9  0.17783   0   9.69     0  0.585  5.569  73.5  2.3999    6  391     19.2   \n",
      "\n",
      "        b  lstat  medv  \n",
      "0  396.90  16.20  19.4  \n",
      "1  396.90   6.19  33.2  \n",
      "2  351.85  21.45  15.4  \n",
      "3  396.90   4.56  34.9  \n",
      "4  393.74   6.56  26.2  \n",
      "5  371.58   4.74  29.0  \n",
      "6  389.85   5.89  26.6  \n",
      "7  338.16  29.97   6.3  \n",
      "8  304.21  19.31  13.0  \n",
      "9  395.77  15.10  17.5  \n"
     ]
    }
   ],
   "source": [
    "url = 'https://raw.githubusercontent.com/selva86/datasets/master/BostonHousing.csv'\n",
    "print(pd.read_csv(url, skiprows=lambda x: x % 50 != 0))"
   ]
  },
  {
   "cell_type": "markdown",
   "id": "db056df5-050c-49ae-905a-fa1055f1b4a6",
   "metadata": {},
   "source": [
    "33"
   ]
  },
  {
   "cell_type": "code",
   "execution_count": 34,
   "id": "468fe538-cc39-4a1c-8bdd-45febbad8621",
   "metadata": {},
   "outputs": [
    {
     "name": "stdout",
     "output_type": "stream",
     "text": [
      "      crim    zn  indus  chas    nox     rm   age     dis  rad  tax  ptratio  \\\n",
      "0  0.00632  18.0   2.31     0  0.538  6.575  65.2  4.0900    1  296     15.3   \n",
      "1  0.02731   0.0   7.07     0  0.469  6.421  78.9  4.9671    2  242     17.8   \n",
      "2  0.02729   0.0   7.07     0  0.469  7.185  61.1  4.9671    2  242     17.8   \n",
      "3  0.03237   0.0   2.18     0  0.458  6.998  45.8  6.0622    3  222     18.7   \n",
      "4  0.06905   0.0   2.18     0  0.458  7.147  54.2  6.0622    3  222     18.7   \n",
      "\n",
      "        b  lstat  medv  \n",
      "0  396.90   4.98   Low  \n",
      "1  396.90   9.14   Low  \n",
      "2  392.83   4.03  High  \n",
      "3  394.63   2.94  High  \n",
      "4  396.90   5.33  High  \n"
     ]
    }
   ],
   "source": [
    "data_frame = pd.read_csv('https://raw.githubusercontent.com/selva86/datasets/master/BostonHousing.csv')\n",
    "data_frame ['medv'] = data_frame ['medv'].apply(lambda x: 'Low' if x < 25 else 'High')\n",
    "print(data_frame.head()) "
   ]
  },
  {
   "cell_type": "markdown",
   "id": "21ffb5d1-40a8-417a-9a0e-ecdd5f7b76d0",
   "metadata": {},
   "source": [
    "34"
   ]
  },
  {
   "cell_type": "code",
   "execution_count": 35,
   "id": "3eeed0e0-758f-4dbe-b69f-3ba0f1f5b4af",
   "metadata": {},
   "outputs": [
    {
     "name": "stdout",
     "output_type": "stream",
     "text": [
      "    0   1   2   3\n",
      "0   0   1   2   3\n",
      "1   2   3   4   5\n",
      "2   4   5   6   7\n",
      "3   6   7   8   9\n",
      "4   8   9  10  11\n",
      "5  10  11  12  13\n"
     ]
    }
   ],
   "source": [
    "L = pd.Series(range(15))\n",
    "steps = np.lib.stride_tricks.sliding_window_view(L, window_shape=4)[::2]\n",
    "df = pd.DataFrame(steps)\n",
    "\n",
    "print(df)\n"
   ]
  },
  {
   "cell_type": "markdown",
   "id": "bbea6693-cec1-4d8b-8260-3d04d9307168",
   "metadata": {},
   "source": [
    "35"
   ]
  },
  {
   "cell_type": "code",
   "execution_count": 36,
   "id": "20dacddb-dc9e-4d17-866a-258e16147f6a",
   "metadata": {},
   "outputs": [
    {
     "name": "stdout",
     "output_type": "stream",
     "text": [
      "        crim  medv\n",
      "0    0.00632  24.0\n",
      "1    0.02731  21.6\n",
      "2    0.02729  34.7\n",
      "3    0.03237  33.4\n",
      "4    0.06905  36.2\n",
      "..       ...   ...\n",
      "501  0.06263  22.4\n",
      "502  0.04527  20.6\n",
      "503  0.06076  23.9\n",
      "504  0.10959  22.0\n",
      "505  0.04741  11.9\n",
      "\n",
      "[506 rows x 2 columns]\n"
     ]
    }
   ],
   "source": [
    "url = 'https://raw.githubusercontent.com/selva86/datasets/master/BostonHousing.csv'\n",
    "columns_to_import = ['crim', 'medv'] \n",
    "df = pd.read_csv(url, usecols=columns_to_import)\n",
    "print(df)\n"
   ]
  },
  {
   "cell_type": "markdown",
   "id": "24b5a18a-8cdb-4a14-9a3a-898e20ca3eb3",
   "metadata": {},
   "source": [
    "36"
   ]
  },
  {
   "cell_type": "code",
   "execution_count": 37,
   "id": "2ee7cd92-176b-43dd-93bb-5435abee8e88",
   "metadata": {},
   "outputs": [
    {
     "name": "stdout",
     "output_type": "stream",
     "text": [
      "Количество строк: 93\n",
      "Количество столбцов: 27\n",
      "\n",
      "Типы данных каждого столбца:\n",
      "Manufacturer           object\n",
      "Model                  object\n",
      "Type                   object\n",
      "Min.Price             float64\n",
      "Price                 float64\n",
      "Max.Price             float64\n",
      "MPG.city              float64\n",
      "MPG.highway           float64\n",
      "AirBags                object\n",
      "DriveTrain             object\n",
      "Cylinders              object\n",
      "EngineSize            float64\n",
      "Horsepower            float64\n",
      "RPM                   float64\n",
      "Rev.per.mile          float64\n",
      "Man.trans.avail        object\n",
      "Fuel.tank.capacity    float64\n",
      "Passengers            float64\n",
      "Length                float64\n",
      "Wheelbase             float64\n",
      "Width                 float64\n",
      "Turn.circle           float64\n",
      "Rear.seat.room        float64\n",
      "Luggage.room          float64\n",
      "Weight                float64\n",
      "Origin                 object\n",
      "Make                   object\n",
      "dtype: object\n",
      "\n",
      "Суммарная статистика каждого столбца:\n",
      "       Min.Price      Price  Max.Price   MPG.city  MPG.highway  EngineSize  \\\n",
      "count  86.000000  91.000000  88.000000  84.000000    91.000000   91.000000   \n",
      "mean   17.118605  19.616484  21.459091  22.404762    29.065934    2.658242   \n",
      "std     8.828290   9.724280  10.696563   5.841520     5.370293    1.045845   \n",
      "min     6.700000   7.400000   7.900000  15.000000    20.000000    1.000000   \n",
      "25%    10.825000  12.350000  14.575000  18.000000    26.000000    1.800000   \n",
      "50%    14.600000  17.700000  19.150000  21.000000    28.000000    2.300000   \n",
      "75%    20.250000  23.500000  24.825000  25.000000    31.000000    3.250000   \n",
      "max    45.400000  61.900000  80.000000  46.000000    50.000000    5.700000   \n",
      "\n",
      "       Horsepower          RPM  Rev.per.mile  Fuel.tank.capacity  Passengers  \\\n",
      "count   86.000000    90.000000     87.000000           85.000000   91.000000   \n",
      "mean   144.000000  5276.666667   2355.000000           16.683529    5.076923   \n",
      "std     53.455204   605.554811    486.916616            3.375748    1.045953   \n",
      "min     55.000000  3800.000000   1320.000000            9.200000    2.000000   \n",
      "25%    100.750000  4800.000000   2017.500000           14.500000    4.000000   \n",
      "50%    140.000000  5200.000000   2360.000000           16.500000    5.000000   \n",
      "75%    170.000000  5787.500000   2565.000000           19.000000    6.000000   \n",
      "max    300.000000  6500.000000   3755.000000           27.000000    8.000000   \n",
      "\n",
      "           Length   Wheelbase      Width  Turn.circle  Rear.seat.room  \\\n",
      "count   89.000000   92.000000  87.000000    88.000000       89.000000   \n",
      "mean   182.865169  103.956522  69.448276    38.954545       27.853933   \n",
      "std     14.792651    6.856317   3.778023     3.304157        3.018129   \n",
      "min    141.000000   90.000000  60.000000    32.000000       19.000000   \n",
      "25%    174.000000   98.000000  67.000000    36.000000       26.000000   \n",
      "50%    181.000000  103.000000  69.000000    39.000000       27.500000   \n",
      "75%    192.000000  110.000000  72.000000    42.000000       30.000000   \n",
      "max    219.000000  119.000000  78.000000    45.000000       36.000000   \n",
      "\n",
      "       Luggage.room       Weight  \n",
      "count     74.000000    86.000000  \n",
      "mean      13.986486  3104.593023  \n",
      "std        3.120824   600.129993  \n",
      "min        6.000000  1695.000000  \n",
      "25%       12.000000  2647.500000  \n",
      "50%       14.000000  3085.000000  \n",
      "75%       16.000000  3567.500000  \n",
      "max       22.000000  4105.000000  \n",
      "\n",
      "Эквивалент DataFrame в виде numpy-массива:\n",
      "[['Acura' 'Integra' 'Small' ... 2705.0 'non-USA' 'Acura Integra']\n",
      " [nan 'Legend' 'Midsize' ... 3560.0 'non-USA' 'Acura Legend']\n",
      " ['Audi' '90' 'Compact' ... 3375.0 'non-USA' 'Audi 90']\n",
      " ...\n",
      " ['Volkswagen' 'Corrado' 'Sporty' ... 2810.0 'non-USA'\n",
      "  'Volkswagen Corrado']\n",
      " ['Volvo' '240' 'Compact' ... 2985.0 'non-USA' 'Volvo 240']\n",
      " [nan '850' 'Midsize' ... 3245.0 'non-USA' 'Volvo 850']]\n",
      "\n",
      "Эквивалент DataFrame в виде списка:\n",
      "[['Acura', 'Integra', 'Small', 12.9, 15.9, 18.8, 25.0, 31.0, nan, 'Front', '4', 1.8, 140.0, 6300.0, 2890.0, 'Yes', 13.2, 5.0, 177.0, 102.0, 68.0, 37.0, 26.5, nan, 2705.0, 'non-USA', 'Acura Integra'], [nan, 'Legend', 'Midsize', 29.2, 33.9, 38.7, 18.0, 25.0, 'Driver & Passenger', 'Front', '6', 3.2, 200.0, 5500.0, 2335.0, 'Yes', 18.0, 5.0, 195.0, 115.0, 71.0, 38.0, 30.0, 15.0, 3560.0, 'non-USA', 'Acura Legend'], ['Audi', '90', 'Compact', 25.9, 29.1, 32.3, 20.0, 26.0, 'Driver only', 'Front', '6', 2.8, 172.0, 5500.0, 2280.0, 'Yes', 16.9, 5.0, 180.0, 102.0, 67.0, 37.0, 28.0, 14.0, 3375.0, 'non-USA', 'Audi 90'], ['Audi', '100', 'Midsize', nan, 37.7, 44.6, 19.0, 26.0, 'Driver & Passenger', nan, '6', nan, 172.0, 5500.0, 2535.0, nan, 21.1, 6.0, 193.0, 106.0, nan, 37.0, 31.0, 17.0, 3405.0, 'non-USA', 'Audi 100'], ['BMW', '535i', 'Midsize', nan, 30.0, nan, 22.0, 30.0, nan, 'Rear', '4', 3.5, 208.0, 5700.0, 2545.0, 'Yes', 21.1, 4.0, 186.0, 109.0, 69.0, 39.0, 27.0, 13.0, 3640.0, 'non-USA', 'BMW 535i'], ['Buick', 'Century', 'Midsize', 14.2, 15.7, 17.3, 22.0, 31.0, 'Driver only', nan, '4', 2.2, 110.0, 5200.0, 2565.0, 'No', 16.4, 6.0, 189.0, 105.0, 69.0, 41.0, 28.0, 16.0, nan, 'USA', 'Buick Century'], ['Buick', 'LeSabre', 'Large', 19.9, 20.8, nan, 19.0, 28.0, 'Driver only', 'Front', '6', 3.8, 170.0, 4800.0, nan, 'No', nan, 6.0, 200.0, 111.0, 74.0, 42.0, 30.5, 17.0, 3470.0, 'USA', 'Buick LeSabre'], ['Buick', 'Roadmaster', 'Large', 22.6, 23.7, 24.9, 16.0, 25.0, 'Driver only', 'Rear', '6', 5.7, 180.0, 4000.0, 1320.0, 'No', 23.0, 6.0, 216.0, 116.0, 78.0, 45.0, 30.5, 21.0, 4105.0, 'USA', 'Buick Roadmaster'], ['Buick', 'Riviera', 'Midsize', 26.3, 26.3, 26.3, 19.0, 27.0, 'Driver only', 'Front', '6', 3.8, 170.0, 4800.0, 1690.0, 'No', 18.8, 5.0, 198.0, 108.0, nan, 41.0, 26.5, 14.0, 3495.0, 'USA', 'Buick Riviera'], ['Cadillac', 'DeVille', 'Large', 33.0, 34.7, 36.3, 16.0, 25.0, 'Driver only', 'Front', '8', 4.9, 200.0, 4100.0, nan, 'No', 18.0, 6.0, 206.0, 114.0, 73.0, 43.0, 35.0, 18.0, 3620.0, 'USA', 'Cadillac DeVille'], ['Cadillac', 'Seville', 'Midsize', 37.5, 40.1, 42.7, 16.0, 25.0, 'Driver & Passenger', 'Front', '8', 4.6, 295.0, 6000.0, 1985.0, 'No', 20.0, 5.0, 204.0, 111.0, 74.0, 44.0, 31.0, nan, 3935.0, 'USA', 'Cadillac Seville'], ['Chevrolet', 'Cavalier', 'Compact', 8.5, 13.4, 18.3, 25.0, 36.0, nan, nan, '4', 2.2, nan, 5200.0, 2380.0, 'Yes', 15.2, 5.0, 182.0, 101.0, 66.0, 38.0, 25.0, 13.0, 2490.0, 'USA', 'Chevrolet Cavalier'], ['Chevrolet', 'Corsica', 'Compact', 11.4, 11.4, 11.4, 25.0, 34.0, 'Driver only', 'Front', nan, 2.2, 110.0, 5200.0, 2665.0, 'Yes', 15.6, 5.0, 184.0, 103.0, 68.0, 39.0, 26.0, nan, 2785.0, 'USA', 'Chevrolet Corsica'], ['Chevrolet', 'Camaro', 'Sporty', 13.4, 15.1, 16.8, 19.0, 28.0, 'Driver & Passenger', 'Rear', nan, 3.4, 160.0, 4600.0, 1805.0, 'Yes', nan, 4.0, 193.0, 101.0, 74.0, 43.0, 25.0, 13.0, 3240.0, 'USA', 'Chevrolet Camaro'], ['Chevrolet', 'Lumina', 'Midsize', 13.4, 15.9, 18.4, nan, 29.0, nan, 'Front', '4', 2.2, nan, 5200.0, 2595.0, 'No', 16.5, 6.0, nan, 108.0, 71.0, nan, 28.5, 16.0, 3195.0, 'USA', 'Chevrolet Lumina'], ['Chevrolet', 'Lumina_APV', 'Van', 14.7, 16.3, 18.0, 18.0, 23.0, nan, 'Front', '6', 3.8, 170.0, 4800.0, 1690.0, 'No', 20.0, 7.0, 178.0, 110.0, 74.0, 44.0, 30.5, nan, 3715.0, 'USA', 'Chevrolet Lumina_APV'], ['Chevrolet', 'Astro', 'Van', 14.7, 16.6, 18.6, 15.0, 20.0, nan, '4WD', '6', 4.3, nan, 4000.0, 1790.0, 'No', 27.0, 8.0, 194.0, 111.0, 78.0, 42.0, 33.5, nan, 4025.0, 'USA', 'Chevrolet Astro'], ['Chevrolet', 'Caprice', 'Large', 18.0, 18.8, 19.6, 17.0, 26.0, 'Driver only', 'Rear', '8', 5.0, 170.0, 4200.0, 1350.0, 'No', 23.0, 6.0, 214.0, 116.0, 77.0, 42.0, 29.5, 20.0, 3910.0, 'USA', 'Chevrolet Caprice'], ['Chevrolet', 'Corvette', 'Sporty', 34.6, 38.0, 41.5, 17.0, 25.0, 'Driver only', 'Rear', '8', 5.7, 300.0, 5000.0, 1450.0, 'Yes', 20.0, 2.0, 179.0, 96.0, 74.0, 43.0, nan, nan, 3380.0, nan, 'Chevrolet Corvette'], [nan, 'Concorde', 'Large', 18.4, 18.4, 18.4, 20.0, 28.0, 'Driver & Passenger', 'Front', '6', 3.3, 153.0, 5300.0, 1990.0, 'No', 18.0, 6.0, 203.0, 113.0, 74.0, nan, 31.0, 15.0, 3515.0, 'USA', 'Chrylser Concorde'], ['Chrysler', 'LeBaron', 'Compact', 14.5, 15.8, 17.1, 23.0, 28.0, 'Driver & Passenger', 'Front', '4', 3.0, 141.0, 5000.0, 2090.0, 'No', 16.0, 6.0, 183.0, 104.0, 68.0, 41.0, 30.5, 14.0, 3085.0, 'USA', 'Chrysler LeBaron'], ['Chrysler', 'Imperial', 'Large', 29.5, 29.5, 29.5, 20.0, 26.0, 'Driver only', 'Front', '6', 3.3, 147.0, 4800.0, 1785.0, 'No', 16.0, 6.0, 203.0, 110.0, 69.0, 44.0, 36.0, 17.0, 3570.0, 'USA', 'Chrysler Imperial'], ['Dodge', 'Colt', 'Small', 7.9, 9.2, 10.6, 29.0, 33.0, nan, 'Front', '4', 1.5, 92.0, 6000.0, 3285.0, 'Yes', nan, 5.0, 174.0, 98.0, 66.0, 32.0, nan, 11.0, 2270.0, 'USA', 'Dodge Colt'], ['Dodge', 'Shadow', 'Small', 8.4, 11.3, 14.2, 23.0, 29.0, 'Driver only', 'Front', '4', 2.2, 93.0, 4800.0, nan, 'Yes', 14.0, 5.0, 172.0, 97.0, 67.0, 38.0, 26.5, nan, 2670.0, 'USA', 'Dodge Shadow'], ['Dodge', 'Spirit', 'Compact', 11.9, 13.3, 14.7, 22.0, 27.0, 'Driver only', 'Front', '4', 2.5, 100.0, 4800.0, 2535.0, 'Yes', nan, 6.0, 181.0, 104.0, 68.0, 39.0, 30.5, nan, 2970.0, 'USA', 'Dodge Spirit'], ['Dodge', 'Caravan', 'Van', nan, 19.0, 24.4, 17.0, 21.0, 'Driver only', '4WD', '6', 3.0, 142.0, 5000.0, 1970.0, 'No', 20.0, 7.0, 175.0, 112.0, 72.0, 42.0, 26.5, nan, 3705.0, 'USA', 'Dodge Caravan'], ['Dodge', 'Dynasty', 'Midsize', 14.8, 15.6, 16.4, 21.0, nan, 'Driver only', 'Front', nan, 2.5, 100.0, 4800.0, 2465.0, 'No', 16.0, 6.0, 192.0, 105.0, 69.0, 42.0, 30.5, 16.0, 3080.0, 'USA', 'Dodge Dynasty'], ['Dodge', 'Stealth', 'Sporty', 18.5, 25.8, 33.1, nan, 24.0, 'Driver only', '4WD', '6', 3.0, 300.0, 6000.0, 2120.0, 'Yes', 19.8, 4.0, 180.0, 97.0, nan, 40.0, 20.0, 11.0, 3805.0, 'USA', 'Dodge Stealth'], ['Eagle', 'Summit', 'Small', 7.9, 12.2, 16.5, 29.0, 33.0, nan, 'Front', '4', 1.5, 92.0, 6000.0, 2505.0, 'Yes', 13.2, 5.0, 174.0, 98.0, 66.0, 36.0, 26.5, 11.0, 2295.0, 'USA', 'Eagle Summit'], ['Eagle', 'Vision', 'Large', nan, 19.3, 21.2, 20.0, 28.0, 'Driver & Passenger', 'Front', '6', 3.5, nan, 5800.0, 1980.0, 'No', 18.0, 6.0, 202.0, 113.0, 74.0, 40.0, 30.0, 15.0, 3490.0, 'USA', 'Eagle Vision'], ['Ford', 'Festiva', 'Small', 6.9, 7.4, 7.9, 31.0, 33.0, nan, 'Front', '4', 1.3, 63.0, 5000.0, 3150.0, 'Yes', 10.0, 4.0, 141.0, 90.0, 63.0, 33.0, 26.0, 12.0, 1845.0, 'USA', 'Ford Festiva'], ['Ford', 'Escort', 'Small', 8.4, 10.1, 11.9, 23.0, 30.0, nan, 'Front', '4', 1.8, 127.0, 6500.0, 2410.0, nan, 13.2, 5.0, 171.0, 98.0, 67.0, 36.0, 28.0, 12.0, 2530.0, 'USA', 'Ford Escort'], ['Ford', 'Tempo', 'Compact', 10.4, 11.3, 12.2, 22.0, 27.0, nan, 'Front', '4', 2.3, 96.0, 4200.0, 2805.0, 'Yes', 15.9, 5.0, 177.0, 100.0, 68.0, nan, 27.5, 13.0, nan, 'USA', nan], ['Ford', 'Mustang', 'Sporty', 10.8, 15.9, 21.0, 22.0, 29.0, 'Driver only', 'Rear', '4', 2.3, 105.0, 4600.0, 2285.0, 'Yes', 15.4, 4.0, 180.0, 101.0, 68.0, 40.0, 24.0, 12.0, nan, 'USA', 'Ford Mustang'], ['Ford', 'Probe', 'Sporty', 12.8, 14.0, 15.2, nan, 30.0, 'Driver only', 'Front', '4', 2.0, 115.0, 5500.0, 2340.0, 'Yes', 15.5, 4.0, 179.0, 103.0, 70.0, 38.0, 23.0, 18.0, 2710.0, 'USA', 'Ford Probe'], ['Ford', 'Aerostar', 'Van', 14.5, 19.9, 25.3, 15.0, 20.0, 'Driver only', '4WD', '6', 3.0, 145.0, 4800.0, 2080.0, 'Yes', 21.0, 7.0, 176.0, 119.0, 72.0, 45.0, 30.0, nan, 3735.0, 'USA', 'Ford Aerostar'], ['Ford', 'Taurus', 'Midsize', 15.6, 20.2, 24.8, 21.0, 30.0, 'Driver only', 'Front', '6', 3.0, nan, 4800.0, 1885.0, 'No', nan, 5.0, 192.0, 106.0, 71.0, 40.0, 27.5, 18.0, 3325.0, 'USA', 'Ford Taurus'], ['Ford', 'Crown_Victoria', 'Large', 20.1, 20.9, 21.7, 18.0, 26.0, 'Driver only', 'Rear', '8', 4.6, 190.0, 4200.0, nan, 'No', 20.0, 6.0, 212.0, 114.0, 78.0, 43.0, 30.0, 21.0, 3950.0, 'USA', 'Ford Crown_Victoria'], ['Geo', 'Metro', 'Small', 6.7, 8.4, 10.0, 46.0, 50.0, nan, 'Front', '3', 1.0, 55.0, 5700.0, 3755.0, nan, 10.6, 4.0, 151.0, 93.0, 63.0, 34.0, 27.5, 10.0, 1695.0, 'non-USA', 'Geo Metro'], ['Geo', 'Storm', 'Sporty', 11.5, 12.5, 13.5, 30.0, 36.0, 'Driver only', 'Front', '4', 1.6, 90.0, 5400.0, 3250.0, 'Yes', 12.4, 4.0, 164.0, 97.0, nan, 37.0, 24.5, 11.0, 2475.0, 'non-USA', 'Geo Storm'], ['Honda', 'Prelude', 'Sporty', 17.0, 19.8, 22.7, 24.0, 31.0, 'Driver & Passenger', 'Front', '4', 2.3, 160.0, 5800.0, 2855.0, 'Yes', nan, 4.0, 175.0, 100.0, 70.0, 39.0, 23.5, 8.0, 2865.0, 'non-USA', 'Honda Prelude'], ['Honda', 'Civic', 'Small', 8.4, 12.1, 15.8, 42.0, 46.0, 'Driver only', 'Front', '4', 1.5, nan, 5900.0, 2650.0, 'Yes', 11.9, 4.0, 173.0, nan, 67.0, 36.0, 28.0, 12.0, nan, 'non-USA', 'Honda Civic'], ['Honda', 'Accord', 'Compact', 13.8, 17.5, 21.2, 24.0, 31.0, 'Driver & Passenger', 'Front', '4', 2.2, 140.0, 5600.0, nan, 'Yes', 17.0, 4.0, 185.0, 107.0, 67.0, 41.0, 28.0, 14.0, 3040.0, 'non-USA', 'Honda Accord'], ['Hyundai', 'Excel', 'Small', 6.8, 8.0, 9.2, 29.0, 33.0, nan, 'Front', '4', 1.5, 81.0, 5500.0, 2710.0, 'Yes', 11.9, 5.0, 168.0, 94.0, 63.0, 35.0, 26.0, 11.0, 2345.0, 'non-USA', 'Hyundai Excel'], ['Hyundai', 'Elantra', 'Small', 9.0, 10.0, 11.0, nan, 29.0, nan, 'Front', '4', 1.8, 124.0, 6000.0, 2745.0, 'Yes', 13.7, 5.0, 172.0, 98.0, 66.0, 36.0, 28.0, 12.0, 2620.0, 'non-USA', 'Hyundai Elantra'], ['Hyundai', 'Scoupe', nan, 9.1, 10.0, 11.0, 26.0, 34.0, nan, 'Front', '4', 1.5, 92.0, 5550.0, 2540.0, 'Yes', 11.9, 4.0, 166.0, 94.0, 64.0, 34.0, 23.5, 9.0, 2285.0, 'non-USA', nan], ['Hyundai', 'Sonata', 'Midsize', 12.4, 13.9, 15.3, 20.0, 27.0, nan, 'Front', '4', 2.0, 128.0, 6000.0, 2335.0, 'Yes', 17.2, 5.0, 184.0, 104.0, 69.0, 41.0, 31.0, nan, 2885.0, nan, 'Hyundai Sonata'], ['Infiniti', 'Q45', 'Midsize', 45.4, 47.9, nan, 17.0, 22.0, nan, 'Rear', '8', 4.5, 278.0, 6000.0, 1955.0, 'No', 22.5, 5.0, 200.0, 113.0, 72.0, 42.0, 29.0, 15.0, 4000.0, 'non-USA', 'Infiniti Q45'], ['Lexus', 'ES300', 'Midsize', 27.5, 28.0, 28.4, 18.0, 24.0, 'Driver only', 'Front', '6', 3.0, 185.0, nan, 2325.0, 'Yes', 18.5, 5.0, 188.0, 103.0, 70.0, 40.0, 27.5, 14.0, 3510.0, 'non-USA', 'Lexus ES300'], [nan, 'SC300', 'Midsize', 34.7, 35.2, 35.6, 18.0, 23.0, 'Driver & Passenger', 'Rear', '6', 3.0, 225.0, 6000.0, 2510.0, 'Yes', nan, 4.0, 191.0, 106.0, 71.0, 39.0, 25.0, 9.0, 3515.0, 'non-USA', 'Lexus SC300'], ['Lincoln', 'Continental', 'Midsize', 33.3, 34.3, 35.3, 17.0, 26.0, 'Driver & Passenger', nan, '6', 3.8, 160.0, 4400.0, 1835.0, 'No', 18.4, 6.0, 205.0, 109.0, 73.0, 42.0, 30.0, 19.0, 3695.0, 'USA', 'Lincoln Continental'], ['Lincoln', 'Town_Car', 'Large', 34.4, 36.1, 37.8, 18.0, 26.0, 'Driver & Passenger', 'Rear', '8', 4.6, 210.0, 4600.0, 1840.0, 'No', 20.0, nan, 219.0, 117.0, 77.0, 45.0, 31.5, 22.0, 4055.0, 'USA', 'Lincoln Town_Car'], ['Mazda', '323', 'Small', 7.4, 8.3, 9.1, 29.0, 37.0, nan, 'Front', '4', 1.6, 82.0, 5000.0, 2370.0, 'Yes', 13.2, 4.0, 164.0, 97.0, 66.0, 34.0, 27.0, 16.0, 2325.0, 'non-USA', 'Mazda 323'], ['Mazda', 'Protege', 'Small', 10.9, 11.6, 12.3, 28.0, 36.0, nan, 'Front', '4', 1.8, 103.0, 5500.0, 2220.0, 'Yes', 14.5, 5.0, 172.0, 98.0, 66.0, 36.0, 26.5, 13.0, 2440.0, 'non-USA', 'Mazda Protege'], ['Mazda', '626', 'Compact', 14.3, 16.5, 18.7, 26.0, 34.0, 'Driver only', 'Front', '4', 2.5, 164.0, 5600.0, 2505.0, 'Yes', 15.5, 5.0, 184.0, 103.0, 69.0, 40.0, 29.5, 14.0, 2970.0, 'non-USA', 'Mazda 626'], ['Mazda', 'MPV', 'Van', 16.6, 19.1, 21.7, 18.0, 24.0, nan, '4WD', '6', 3.0, 155.0, 5000.0, 2240.0, 'No', 19.6, 7.0, 190.0, 110.0, 72.0, 39.0, 27.5, nan, 3735.0, 'non-USA', 'Mazda MPV'], ['Mazda', 'RX-7', 'Sporty', 32.5, 32.5, 32.5, 17.0, 25.0, 'Driver only', nan, 'rotary', 1.3, 255.0, 6500.0, 2325.0, 'Yes', 20.0, 2.0, 169.0, 96.0, 69.0, nan, nan, nan, nan, 'non-USA', 'Mazda RX-7'], ['Mercedes-Benz', '190E', 'Compact', 29.0, 31.9, 34.9, nan, 29.0, 'Driver only', 'Rear', '4', 2.3, 130.0, 5100.0, 2425.0, 'Yes', 14.5, 5.0, 175.0, 105.0, 67.0, 34.0, 26.0, 12.0, 2920.0, nan, 'Mercedes-Benz 190E'], ['Mercedes-Benz', '300E', 'Midsize', 43.8, 61.9, 80.0, 19.0, 25.0, 'Driver & Passenger', 'Rear', '6', 3.2, 217.0, 5500.0, 2220.0, 'No', 18.5, 5.0, nan, 110.0, 69.0, 37.0, nan, 15.0, 3525.0, 'non-USA', 'Mercedes-Benz 300E'], ['Mercury', nan, 'Sporty', 13.3, 14.1, 15.0, 23.0, 26.0, 'Driver only', 'Front', '4', 1.6, 100.0, 5750.0, 2475.0, 'Yes', 11.1, 4.0, 166.0, 95.0, 65.0, 36.0, 19.0, 6.0, 2450.0, 'USA', 'Mercury Capri'], ['Mercury', 'Cougar', 'Midsize', 14.9, 14.9, 14.9, 19.0, 26.0, nan, 'Rear', '6', 3.8, 140.0, 3800.0, 1730.0, 'No', 18.0, 5.0, 199.0, 113.0, 73.0, 38.0, 28.0, 15.0, 3610.0, 'USA', 'Mercury Cougar'], ['Mitsubishi', 'Mirage', 'Small', 7.7, 10.3, 12.9, 29.0, nan, nan, 'Front', '4', 1.5, 92.0, 6000.0, 2505.0, 'Yes', 13.2, 5.0, 172.0, 98.0, 67.0, 36.0, 26.0, 11.0, 2295.0, 'non-USA', 'Mitsubishi Mirage'], ['Mitsubishi', 'Diamante', 'Midsize', 22.4, 26.1, nan, 18.0, 24.0, 'Driver only', 'Front', '6', 3.0, 202.0, 6000.0, 2210.0, 'No', 19.0, 5.0, 190.0, 107.0, 70.0, 43.0, 27.5, 14.0, 3730.0, 'non-USA', 'Mitsubishi Diamante'], ['Nissan', 'Sentra', 'Small', 8.7, 11.8, 14.9, 29.0, 33.0, 'Driver only', 'Front', nan, 1.6, 110.0, 6000.0, 2435.0, 'Yes', 13.2, 5.0, 170.0, 96.0, 66.0, 33.0, 26.0, nan, nan, 'non-USA', 'Nissan Sentra'], ['Nissan', 'Altima', 'Compact', 13.0, 15.7, 18.3, 24.0, 30.0, 'Driver only', 'Front', '4', 2.4, 150.0, 5600.0, 2130.0, 'Yes', 15.9, 5.0, 181.0, 103.0, 67.0, 40.0, 28.5, 14.0, 3050.0, 'non-USA', 'Nissan Altima'], ['Nissan', 'Quest', 'Van', 16.7, 19.1, 21.5, 17.0, 23.0, nan, 'Front', '6', 3.0, nan, 4800.0, 2065.0, 'No', 20.0, 7.0, 190.0, 112.0, 74.0, 41.0, 27.0, nan, 4100.0, 'non-USA', 'Nissan Quest'], ['Nissan', 'Maxima', 'Midsize', 21.0, 21.5, 22.0, 21.0, 26.0, 'Driver only', 'Front', '6', 3.0, 160.0, 5200.0, 2045.0, nan, 18.5, 5.0, 188.0, 104.0, 69.0, 41.0, 28.5, 14.0, 3200.0, 'non-USA', 'Nissan Maxima'], ['Oldsmobile', 'Achieva', 'Compact', 13.0, 13.5, 14.0, 24.0, 31.0, nan, 'Front', '4', 2.3, 155.0, 6000.0, 2380.0, 'No', 15.2, 5.0, 188.0, 103.0, 67.0, 39.0, 28.0, 14.0, 2910.0, 'USA', 'Oldsmobile Achieva'], ['Oldsmobile', 'Cutlass_Ciera', 'Midsize', 14.2, 16.3, 18.4, 23.0, 31.0, 'Driver only', 'Front', '4', 2.2, 110.0, 5200.0, 2565.0, 'No', nan, 5.0, 190.0, 105.0, 70.0, 42.0, 28.0, 16.0, 2890.0, 'USA', 'Oldsmobile Cutlass_Ciera'], ['Oldsmobile', 'Silhouette', 'Van', 19.5, 19.5, 19.5, 18.0, 23.0, nan, 'Front', '6', 3.8, 170.0, 4800.0, 1690.0, 'No', 20.0, 7.0, nan, 110.0, 74.0, 44.0, 30.5, nan, 3715.0, 'USA', 'Oldsmobile Silhouette'], ['Oldsmobile', 'Eighty-Eight', 'Large', 19.5, 20.7, 21.9, nan, 28.0, 'Driver only', 'Front', '6', 3.8, 170.0, 4800.0, 1570.0, 'No', 18.0, 6.0, 201.0, 111.0, 74.0, 42.0, 31.5, 17.0, 3470.0, 'USA', 'Oldsmobile Eighty-Eight'], ['Plymouth', 'Laser', 'Sporty', 11.4, 14.4, 17.4, nan, 30.0, nan, '4WD', '4', 1.8, 92.0, 5000.0, 2360.0, 'Yes', 15.9, 4.0, 173.0, 97.0, 67.0, 39.0, 24.5, 8.0, 2640.0, nan, 'Plymouth Laser'], ['Pontiac', 'LeMans', 'Small', nan, 9.0, 9.9, 31.0, 41.0, nan, 'Front', '4', 1.6, 74.0, 5600.0, 3130.0, 'Yes', 13.2, 4.0, 177.0, 99.0, 66.0, 35.0, 25.5, 17.0, 2350.0, 'USA', 'Pontiac LeMans'], ['Pontiac', 'Sunbird', 'Compact', 9.4, 11.1, 12.8, nan, 31.0, nan, nan, '4', 2.0, 110.0, 5200.0, 2665.0, 'Yes', 15.2, 5.0, 181.0, 101.0, 66.0, 39.0, 25.0, 13.0, nan, 'USA', nan], ['Pontiac', 'Firebird', nan, 14.0, 17.7, 21.4, 19.0, 28.0, 'Driver & Passenger', 'Rear', '6', nan, 160.0, 4600.0, 1805.0, 'Yes', 15.5, 4.0, 196.0, 101.0, 75.0, 43.0, 25.0, 13.0, 3240.0, 'USA', 'Pontiac Firebird'], ['Pontiac', 'Grand_Prix', 'Midsize', 15.4, 18.5, 21.6, 19.0, 27.0, nan, 'Front', '6', 3.4, 200.0, 5000.0, 1890.0, 'Yes', 16.5, 5.0, 195.0, 108.0, 72.0, 41.0, 28.5, 16.0, 3450.0, 'USA', 'Pontiac Grand_Prix'], ['Pontiac', 'Bonneville', 'Large', 19.4, 24.4, 29.4, 19.0, 28.0, 'Driver & Passenger', 'Front', '6', 3.8, 170.0, 4800.0, 1565.0, 'No', 18.0, 6.0, 177.0, 111.0, 74.0, 43.0, 30.5, 18.0, 3495.0, 'USA', 'Pontiac Bonneville'], ['Saab', '900', 'Compact', 20.3, 28.7, 37.1, 20.0, 26.0, nan, 'Front', '4', 2.1, 140.0, 6000.0, 2910.0, 'Yes', 18.0, 5.0, nan, 99.0, 67.0, 37.0, 26.5, 14.0, 2775.0, 'non-USA', 'Saab 900'], ['Saturn', 'SL', 'Small', 9.2, nan, 12.9, nan, 38.0, 'Driver only', 'Front', '4', 1.9, 85.0, 5000.0, 2145.0, 'Yes', 12.8, 5.0, 176.0, 102.0, 68.0, 40.0, 26.5, nan, 2495.0, 'USA', 'Saturn SL'], ['Subaru', 'Justy', 'Small', 7.3, 8.4, 9.5, 33.0, 37.0, nan, '4WD', '3', 1.2, 73.0, 5600.0, 2875.0, 'Yes', 9.2, 4.0, 146.0, 90.0, 60.0, 32.0, 23.5, 10.0, 2045.0, 'non-USA', 'Subaru Justy'], ['Subaru', 'Loyale', 'Small', 10.5, 10.9, 11.3, 25.0, 30.0, nan, '4WD', '4', 1.8, 90.0, 5200.0, 3375.0, 'Yes', 15.9, 5.0, 175.0, 97.0, 65.0, 35.0, 27.5, 15.0, 2490.0, 'non-USA', 'Subaru Loyale'], ['Subaru', 'Legacy', 'Compact', 16.3, 19.5, 22.7, 23.0, 30.0, 'Driver only', '4WD', '4', 2.2, 130.0, nan, 2330.0, 'Yes', 15.9, 5.0, 179.0, 102.0, 67.0, 37.0, 27.0, 14.0, 3085.0, 'non-USA', 'Subaru Legacy'], ['Suzuki', 'Swift', nan, 7.3, 8.6, nan, 39.0, 43.0, nan, 'Front', '3', 1.3, 70.0, 6000.0, 3360.0, 'Yes', 10.6, 4.0, 161.0, 93.0, nan, 34.0, 27.5, 10.0, 1965.0, 'non-USA', 'Suzuki Swift'], ['Toyota', 'Tercel', 'Small', nan, 9.8, 11.8, 32.0, 37.0, 'Driver only', 'Front', '4', 1.5, 82.0, 5200.0, 3505.0, 'Yes', 11.9, nan, 162.0, 94.0, nan, 36.0, 24.0, 11.0, 2055.0, 'non-USA', 'Toyota Tercel'], ['Toyota', 'Celica', 'Sporty', 14.2, 18.4, 22.6, 25.0, 32.0, nan, 'Front', '4', 2.2, 135.0, nan, 2405.0, 'Yes', 15.9, 4.0, 174.0, 99.0, 69.0, nan, 23.0, 13.0, 2950.0, 'non-USA', 'Toyota Celica'], ['Toyota', 'Camry', 'Midsize', 15.2, nan, 21.2, 22.0, 29.0, 'Driver only', nan, '4', 2.2, 130.0, 5400.0, 2340.0, nan, 18.5, 5.0, 188.0, 103.0, 70.0, 38.0, 28.5, 15.0, 3030.0, 'non-USA', 'Toyota Camry'], ['Toyota', 'Previa', 'Van', nan, 22.7, 26.6, 18.0, 22.0, 'Driver only', '4WD', '4', 2.4, 138.0, 5000.0, 2515.0, 'Yes', 19.8, 7.0, 187.0, 113.0, 71.0, 41.0, 35.0, nan, 3785.0, 'non-USA', 'Toyota Previa'], ['Volkswagen', 'Fox', 'Small', 8.7, 9.1, 9.5, 25.0, 33.0, nan, 'Front', '4', 1.8, 81.0, 5500.0, 2550.0, 'Yes', 12.4, 4.0, 163.0, 93.0, 63.0, 34.0, 26.0, 10.0, 2240.0, 'non-USA', 'Volkswagen Fox'], ['Volkswagen', 'Eurovan', 'Van', 16.6, 19.7, 22.7, 17.0, 21.0, nan, 'Front', '5', 2.5, 109.0, 4500.0, 2915.0, 'Yes', 21.1, 7.0, 187.0, 115.0, 72.0, 38.0, 34.0, nan, 3960.0, nan, 'Volkswagen Eurovan'], ['Volkswagen', 'Passat', 'Compact', 17.6, 20.0, 22.4, 21.0, 30.0, nan, 'Front', '4', 2.0, 134.0, 5800.0, 2685.0, 'Yes', 18.5, 5.0, 180.0, 103.0, 67.0, 35.0, 31.5, 14.0, 2985.0, 'non-USA', 'Volkswagen Passat'], ['Volkswagen', 'Corrado', 'Sporty', 22.9, 23.3, 23.7, 18.0, 25.0, nan, 'Front', '6', 2.8, 178.0, 5800.0, 2385.0, 'Yes', 18.5, 4.0, 159.0, 97.0, 66.0, 36.0, 26.0, 15.0, 2810.0, 'non-USA', 'Volkswagen Corrado'], ['Volvo', '240', 'Compact', 21.8, 22.7, 23.5, 21.0, 28.0, 'Driver only', 'Rear', nan, 2.3, 114.0, 5400.0, 2215.0, 'Yes', 15.8, 5.0, 190.0, 104.0, 67.0, 37.0, 29.5, 14.0, 2985.0, 'non-USA', 'Volvo 240'], [nan, '850', 'Midsize', 24.8, 26.7, 28.5, 20.0, 28.0, 'Driver & Passenger', 'Front', '5', 2.4, 168.0, 6200.0, nan, 'Yes', 19.3, 5.0, 184.0, 105.0, 69.0, 38.0, 30.0, 15.0, 3245.0, 'non-USA', 'Volvo 850']]\n"
     ]
    }
   ],
   "source": [
    "df = pd.read_csv('https://raw.githubusercontent.com/selva86/datasets/master/Cars93_miss.csv')\n",
    "\n",
    "num_rows, num_columns = df.shape\n",
    "data_types = df.dtypes\n",
    "summary_stats = df.describe()\n",
    "\n",
    "numpy_array = df.to_numpy()\n",
    "list_data = df.values.tolist()\n",
    "\n",
    "print(f'Количество строк: {num_rows}')\n",
    "print(f'Количество столбцов: {num_columns}')\n",
    "print('\\nТипы данных каждого столбца:')\n",
    "print(data_types)\n",
    "print('\\nСуммарная статистика каждого столбца:')\n",
    "print(summary_stats)\n",
    "print('\\nЭквивалент DataFrame в виде numpy-массива:')\n",
    "print(numpy_array)\n",
    "print('\\nЭквивалент DataFrame в виде списка:')\n",
    "print(list_data)"
   ]
  },
  {
   "cell_type": "markdown",
   "id": "8f0d1b2f-6662-413f-890d-d1702a721595",
   "metadata": {},
   "source": [
    "37"
   ]
  },
  {
   "cell_type": "code",
   "execution_count": 38,
   "id": "d23ce9ea-e157-409d-ad1d-e183bc8add29",
   "metadata": {},
   "outputs": [
    {
     "name": "stdout",
     "output_type": "stream",
     "text": [
      "Производитель: Mercedes-Benz\n",
      "Модель: 300E\n",
      "Тип: Midsize\n",
      "Цена: 61.9\n",
      "Номер строки: 58\n",
      "Номер столбца: 4\n"
     ]
    }
   ],
   "source": [
    "df = pd.read_csv('https://raw.githubusercontent.com/selva86/datasets/master/Cars93_miss.csv')\n",
    "\n",
    "max_price = df['Price'].max()\n",
    "max_price_row = df[df['Price'] == max_price].iloc[0]\n",
    "\n",
    "# Информация об автомобиле\n",
    "manufacturer = max_price_row['Manufacturer']\n",
    "model = max_price_row['Model']\n",
    "car_type = max_price_row['Type']\n",
    "\n",
    "row_number = max_price_row.name\n",
    "column_number = df.columns.get_loc('Price')\n",
    "\n",
    "print(f'Производитель: {manufacturer}')\n",
    "print(f'Модель: {model}')\n",
    "print(f'Тип: {car_type}')\n",
    "print(f'Цена: {max_price}')\n",
    "print(f'Номер строки: {row_number}')\n",
    "print(f'Номер столбца: {column_number}')\n"
   ]
  },
  {
   "cell_type": "markdown",
   "id": "15f1a406-f4fc-4dae-80d0-853379bf6848",
   "metadata": {},
   "source": [
    "38"
   ]
  },
  {
   "cell_type": "code",
   "execution_count": 39,
   "id": "ffcc5c37-c1e9-4fd9-a7ac-b7636d751ac6",
   "metadata": {},
   "outputs": [
    {
     "name": "stdout",
     "output_type": "stream",
     "text": [
      "Index(['Manufacturer', 'Model', 'Type', 'Min.Price', 'Price', 'Max.Price',\n",
      "       'MPG.city', 'MPG.highway', 'AirBags', 'DriveTrain', 'Cylinders',\n",
      "       'EngineSize', 'Horsepower', 'RPM', 'Rev.per.mile', 'Man.trans.avail',\n",
      "       'Fuel.tank.capacity', 'Passengers', 'Length', 'Wheelbase', 'Width',\n",
      "       'Turn.circle', 'Rear.seat.room', 'Luggage.room', 'Weight', 'Origin',\n",
      "       'Make'],\n",
      "      dtype='object')\n",
      "Index(['Manufacturer', 'Model', 'CarType', 'Min_Price', 'Price', 'Max_Price',\n",
      "       'MPG_city', 'MPG_highway', 'AirBags', 'DriveTrain', 'Cylinders',\n",
      "       'EngineSize', 'Horsepower', 'RPM', 'Rev_per_mile', 'Man_trans_avail',\n",
      "       'Fuel_tank_capacity', 'Passengers', 'Length', 'Wheelbase', 'Width',\n",
      "       'Turn_circle', 'Rear_seat_room', 'Luggage_room', 'Weight', 'Origin',\n",
      "       'Make'],\n",
      "      dtype='object')\n"
     ]
    }
   ],
   "source": [
    "df = pd.read_csv('https://raw.githubusercontent.com/selva86/datasets/master/Cars93_miss.csv')\n",
    "print(df.columns)\n",
    "\n",
    "df.rename(columns={'Type': 'CarType'}, inplace=True)\n",
    "df.columns = df.columns.str.replace('.', '_')\n",
    "print(df.columns)"
   ]
  },
  {
   "cell_type": "markdown",
   "id": "c3910b59-b368-409a-8fa4-6944599e00c3",
   "metadata": {},
   "source": [
    "39"
   ]
  },
  {
   "cell_type": "code",
   "execution_count": 40,
   "id": "f1a0fa3f-3616-4fba-91ba-e12d803a4ef9",
   "metadata": {},
   "outputs": [
    {
     "name": "stdout",
     "output_type": "stream",
     "text": [
      "Пропуски есть\n"
     ]
    }
   ],
   "source": [
    "import io\n",
    "import requests\n",
    "\n",
    "data = requests.get('https://raw.githubusercontent.com/selva86/datasets/master/Cars93_miss.csv').text\n",
    "data = data.replace(',\"None\",', ',\"No_AirBags\",') #Это треубуется для обработки случая, когда подушки нет, а не то что пропуск\n",
    "df = pd.read_csv(io.StringIO(data))\n",
    "\n",
    "# Проверка отсутствующих значений\n",
    "missing_values = df.isnull().sum()\n",
    "\n",
    "# Внутри missing находится сумма пропусков по всем столбцам\n",
    "if missing_values.sum() != 0:\n",
    "    print(\"Пропуски есть\")\n",
    "else:\n",
    "    print(\"Пропусков нет\")\n"
   ]
  },
  {
   "cell_type": "markdown",
   "id": "738decfc-0382-42b9-a522-32b82ed1bf78",
   "metadata": {},
   "source": [
    "40"
   ]
  },
  {
   "cell_type": "code",
   "execution_count": 41,
   "id": "88849802-02cf-48f4-99e7-c1709a078b32",
   "metadata": {},
   "outputs": [
    {
     "name": "stdout",
     "output_type": "stream",
     "text": [
      "Количество пропусков по столбцам\n",
      "Manufacturer           4\n",
      "Model                  1\n",
      "Type                   3\n",
      "Min.Price              7\n",
      "Price                  2\n",
      "Max.Price              5\n",
      "MPG.city               9\n",
      "MPG.highway            2\n",
      "AirBags                6\n",
      "DriveTrain             7\n",
      "Cylinders              5\n",
      "EngineSize             2\n",
      "Horsepower             7\n",
      "RPM                    3\n",
      "Rev.per.mile           6\n",
      "Man.trans.avail        5\n",
      "Fuel.tank.capacity     8\n",
      "Passengers             2\n",
      "Length                 4\n",
      "Wheelbase              1\n",
      "Width                  6\n",
      "Turn.circle            5\n",
      "Rear.seat.room         4\n",
      "Luggage.room          19\n",
      "Weight                 7\n",
      "Origin                 5\n",
      "Make                   3\n",
      "dtype: int64\n",
      "Максимальное количество пропусков - в столбце\n",
      "19 Luggage.room\n"
     ]
    }
   ],
   "source": [
    "import io\n",
    "import requests\n",
    "\n",
    "data = requests.get('https://raw.githubusercontent.com/selva86/datasets/master/Cars93_miss.csv').text\n",
    "data = data.replace(',\"None\",', ',\"No_AirBags\",') #Это треубуется для обработки случая, когда подушки нет, а не то что пропуск\n",
    "df = pd.read_csv(io.StringIO(data))\n",
    "\n",
    "\n",
    "missing_values = df.isnull().sum()\n",
    "\n",
    "print(\"Количество пропусков по столбцам\")\n",
    "print(missing_values)\n",
    "print(\"Максимальное количество пропусков - в столбце\")\n",
    "print(missing_values.max(), missing_values.idxmax())\n"
   ]
  },
  {
   "cell_type": "markdown",
   "id": "a5a6e904-9572-4f25-a9f9-b08511168640",
   "metadata": {},
   "source": [
    "41"
   ]
  },
  {
   "cell_type": "code",
   "execution_count": 42,
   "id": "3f05cb5e-7d29-40a6-a473-9a6e9609dc27",
   "metadata": {},
   "outputs": [
    {
     "name": "stdout",
     "output_type": "stream",
     "text": [
      "    Min.Price  Max.Price\n",
      "0   12.900000  18.800000\n",
      "1   29.200000  38.700000\n",
      "2   25.900000  32.300000\n",
      "3   17.118605  44.600000\n",
      "4   17.118605  21.459091\n",
      "..        ...        ...\n",
      "88  16.600000  22.700000\n",
      "89  17.600000  22.400000\n",
      "90  22.900000  23.700000\n",
      "91  21.800000  23.500000\n",
      "92  24.800000  28.500000\n",
      "\n",
      "[93 rows x 2 columns]\n"
     ]
    }
   ],
   "source": [
    "df = pd.read_csv('https://raw.githubusercontent.com/selva86/datasets/master/Cars93_miss.csv')\n",
    "avg_min = df['Min.Price'].mean()\n",
    "avg_max = df['Max.Price'].mean()\n",
    "df.fillna({'Min.Price' : avg_min}, inplace=True)\n",
    "df.fillna({'Max.Price' : avg_max}, inplace=True)\n",
    "print(df[['Min.Price', 'Max.Price']])"
   ]
  },
  {
   "cell_type": "markdown",
   "id": "ee3d5d46-662f-40db-acef-8792f8c178e3",
   "metadata": {},
   "source": [
    "42"
   ]
  },
  {
   "cell_type": "code",
   "execution_count": 43,
   "id": "66cb189e-764a-42a5-abe2-7cc70904781e",
   "metadata": {},
   "outputs": [
    {
     "name": "stdout",
     "output_type": "stream",
     "text": [
      "    Min.Price  Max.Price\n",
      "0   12.900000      18.80\n",
      "1   29.200000      38.70\n",
      "2   25.900000      32.30\n",
      "3   17.118605      44.60\n",
      "4   17.118605      19.15\n",
      "..        ...        ...\n",
      "88  16.600000      22.70\n",
      "89  17.600000      22.40\n",
      "90  22.900000      23.70\n",
      "91  21.800000      23.50\n",
      "92  24.800000      28.50\n",
      "\n",
      "[93 rows x 2 columns]\n"
     ]
    }
   ],
   "source": [
    "df = pd.read_csv('https://raw.githubusercontent.com/selva86/datasets/master/Cars93_miss.csv')\n",
    "avg = df['Min.Price'].mean()\n",
    "median = df['Max.Price'].median()\n",
    "def missing_min(value):\n",
    "    if(pd.isnull(value)):\n",
    "        return avg\n",
    "    else:\n",
    "        return value\n",
    "def missing_max(value):\n",
    "    if(pd.isnull(value)):\n",
    "        return median\n",
    "    else:\n",
    "        return value\n",
    "\n",
    "df['Min.Price'] = df['Min.Price'].apply(missing_min)\n",
    "df['Max.Price'] = df['Max.Price'].apply(missing_max)\n",
    "print(df[['Min.Price', 'Max.Price']])\n"
   ]
  },
  {
   "cell_type": "markdown",
   "id": "36e5f59c-5c3f-4852-809d-bd505ff7a6be",
   "metadata": {},
   "source": [
    "43"
   ]
  },
  {
   "cell_type": "code",
   "execution_count": 44,
   "id": "a326a82a-a4b5-4c0c-845b-264f6a9990ce",
   "metadata": {},
   "outputs": [
    {
     "name": "stdout",
     "output_type": "stream",
     "text": [
      "    a\n",
      "0   0\n",
      "1   5\n",
      "2  10\n",
      "3  15\n"
     ]
    }
   ],
   "source": [
    "df = pd.DataFrame(np.arange(20).reshape(-1, 5), columns=list('abcde'))\n",
    "print(pd.DataFrame(df['a']))"
   ]
  },
  {
   "cell_type": "markdown",
   "id": "1e7a8f39-179c-4958-9bb2-6557f60e8b68",
   "metadata": {},
   "source": [
    "44"
   ]
  },
  {
   "cell_type": "code",
   "execution_count": 45,
   "id": "4e535483-11c5-4b89-a5f8-91b2f32d6a37",
   "metadata": {},
   "outputs": [
    {
     "name": "stdout",
     "output_type": "stream",
     "text": [
      "После замены столбцов 'a' и 'c':\n",
      "    c   b   a   d   e\n",
      "0   2   1   0   3   4\n",
      "1   7   6   5   8   9\n",
      "2  12  11  10  13  14\n",
      "3  17  16  15  18  19\n",
      "\n",
      "После сортировки столбцов в обратном алфавитном порядке:\n",
      "    e   d   c   b   a\n",
      "0   4   3   2   1   0\n",
      "1   9   8   7   6   5\n",
      "2  14  13  12  11  10\n",
      "3  19  18  17  16  15\n"
     ]
    }
   ],
   "source": [
    "df = pd.DataFrame(np.arange(20).reshape(-1, 5), columns=list('abcde'))\n",
    "\n",
    "def swap_columns(dataframe, col1, col2):\n",
    "    col1_data=dataframe[col1]\n",
    "    col2_data=dataframe[col2]\n",
    "    dataframe[col1]=col2_data\n",
    "    dataframe[col2]=col1_data\n",
    "    dataframe = dataframe.rename(columns={col1:col2, col2:col1})\n",
    "    return dataframe\n",
    "\n",
    "print(\"После замены столбцов 'a' и 'c':\")\n",
    "df = swap_columns(df, 'a', 'c')\n",
    "print(df)\n",
    "\n",
    "df = df[sorted(df.columns, reverse=True)]\n",
    "print(\"\\nПосле сортировки столбцов в обратном алфавитном порядке:\")\n",
    "print(df)"
   ]
  },
  {
   "cell_type": "markdown",
   "id": "64dc1f12-1245-4178-a67a-bc8588e05418",
   "metadata": {},
   "source": [
    "45"
   ]
  },
  {
   "cell_type": "code",
   "execution_count": 46,
   "id": "576863b5-bbe6-47eb-bfed-33bef87c2fc0",
   "metadata": {},
   "outputs": [
    {
     "name": "stdout",
     "output_type": "stream",
     "text": [
      "   Manufacturer    Model     Type  Min.Price  Price  ...  Rear.seat.room  \\\n",
      "0         Acura  Integra    Small       12.9   15.9  ...            26.5   \n",
      "1           NaN   Legend  Midsize       29.2   33.9  ...            30.0   \n",
      "2          Audi       90  Compact       25.9   29.1  ...            28.0   \n",
      "3          Audi      100  Midsize        NaN   37.7  ...            31.0   \n",
      "4           BMW     535i  Midsize        NaN   30.0  ...            27.0   \n",
      "..          ...      ...      ...        ...    ...  ...             ...   \n",
      "88   Volkswagen  Eurovan      Van       16.6   19.7  ...            34.0   \n",
      "89   Volkswagen   Passat  Compact       17.6   20.0  ...            31.5   \n",
      "90   Volkswagen  Corrado   Sporty       22.9   23.3  ...            26.0   \n",
      "91        Volvo      240  Compact       21.8   22.7  ...            29.5   \n",
      "92          NaN      850  Midsize       24.8   26.7  ...            30.0   \n",
      "\n",
      "    Luggage.room  Weight   Origin                Make  \n",
      "0            NaN  2705.0  non-USA       Acura Integra  \n",
      "1           15.0  3560.0  non-USA        Acura Legend  \n",
      "2           14.0  3375.0  non-USA             Audi 90  \n",
      "3           17.0  3405.0  non-USA            Audi 100  \n",
      "4           13.0  3640.0  non-USA            BMW 535i  \n",
      "..           ...     ...      ...                 ...  \n",
      "88           NaN  3960.0      NaN  Volkswagen Eurovan  \n",
      "89          14.0  2985.0  non-USA   Volkswagen Passat  \n",
      "90          15.0  2810.0  non-USA  Volkswagen Corrado  \n",
      "91          14.0  2985.0  non-USA           Volvo 240  \n",
      "92          15.0  3245.0  non-USA           Volvo 850  \n",
      "\n",
      "[93 rows x 27 columns]\n"
     ]
    }
   ],
   "source": [
    "df = pd.read_csv('https://raw.githubusercontent.com/selva86/datasets/master/Cars93_miss.csv')\n",
    "\n",
    "# Сохранение текущих настроек\n",
    "original_max_rows = pd.get_option('display.max_rows')\n",
    "original_max_columns = pd.get_option('display.max_columns')\n",
    "# Изменение настроек отображения\n",
    "pd.set_option('display.max_rows', 10)\n",
    "pd.set_option('display.max_columns', 10)\n",
    "# Вывод DataFrame\n",
    "print(df)\n",
    "# Возврат настроек к значениям по умолчанию\n",
    "pd.set_option('display.max_rows', original_max_rows)\n",
    "pd.set_option('display.max_columns', original_max_columns)"
   ]
  },
  {
   "cell_type": "markdown",
   "id": "3b084398-cf4b-4227-9ecb-add5305e0eec",
   "metadata": {},
   "source": [
    "46"
   ]
  },
  {
   "cell_type": "code",
   "execution_count": 47,
   "id": "901895cf-67c6-46fc-8bff-b23f647a48e0",
   "metadata": {},
   "outputs": [
    {
     "name": "stdout",
     "output_type": "stream",
     "text": [
      "         random\n",
      "0  5.931432e-01\n",
      "1  1.157262e-09\n",
      "2  2.481644e-08\n",
      "3  2.279394e-06\n",
      "   random\n",
      "0  0.5931\n",
      "1  0.0000\n",
      "2  0.0000\n",
      "3  0.0000\n"
     ]
    }
   ],
   "source": [
    "df = pd.DataFrame(np.random.random(4)**10, columns=['random'])\n",
    "print(df)\n",
    "# Изменение настроек отображения\n",
    "pd.set_option('display.float_format', '{:.4f}'.format)\n",
    "# Вывод DataFrame\n",
    "print(df)\n",
    "# Возврат настроек к значениям по умолчанию\n",
    "pd.reset_option('display.float_format')"
   ]
  },
  {
   "cell_type": "markdown",
   "id": "abcf6c4c-61c6-4781-bd5d-9f3011e564ae",
   "metadata": {},
   "source": [
    "47"
   ]
  },
  {
   "cell_type": "code",
   "execution_count": 48,
   "id": "036d432c-25b0-4326-9bd3-705a4170a4b0",
   "metadata": {},
   "outputs": [
    {
     "name": "stdout",
     "output_type": "stream",
     "text": [
      "     random\n",
      "0  0.953218\n",
      "1  0.387863\n",
      "2  0.529787\n",
      "3  0.050357\n",
      "   random\n",
      "0  95.32%\n",
      "1  38.79%\n",
      "2  52.98%\n",
      "3   5.04%\n"
     ]
    }
   ],
   "source": [
    "df = pd.DataFrame(np.random.random(4), columns=['random'])\n",
    "print(df)\n",
    "\n",
    "df['random'] = df['random'].apply(lambda x: f'{x * 100:.2f}%')\n",
    "print(df)"
   ]
  },
  {
   "cell_type": "markdown",
   "id": "4f292413-bb12-42a8-8927-d55126735976",
   "metadata": {},
   "source": [
    "48"
   ]
  },
  {
   "cell_type": "code",
   "execution_count": 49,
   "id": "7dacaada-9092-4b13-afa6-438b4e9686c3",
   "metadata": {},
   "outputs": [
    {
     "name": "stdout",
     "output_type": "stream",
     "text": [
      "   Manufacturer    Model     Type\n",
      "0         Acura  Integra    Small\n",
      "20     Chrysler  LeBaron  Compact\n",
      "40        Honda  Prelude   Sporty\n",
      "60      Mercury   Cougar  Midsize\n",
      "80       Subaru   Loyale    Small\n"
     ]
    }
   ],
   "source": [
    "df = pd.read_csv('https://raw.githubusercontent.com/selva86/datasets/master/Cars93_miss.csv')\n",
    "\n",
    "print(df.loc[::20, ['Manufacturer', 'Model', 'Type']])"
   ]
  },
  {
   "cell_type": "markdown",
   "id": "a6579878-87c7-4099-ba36-d09b025c9a87",
   "metadata": {},
   "source": [
    "49"
   ]
  },
  {
   "cell_type": "code",
   "execution_count": 50,
   "id": "5a44acaa-1062-418c-b7c1-0b2ec0b50262",
   "metadata": {},
   "outputs": [
    {
     "name": "stdout",
     "output_type": "stream",
     "text": [
      "                          Manufacturer    Model     Type  Min.Price  Max.Price\n",
      "Index                                                                         \n",
      "Acura Integra Small              Acura  Integra    Small       12.9       18.8\n",
      "missing Legend Midsize         missing   Legend  Midsize       29.2       38.7\n",
      "Audi 90 Compact                   Audi       90  Compact       25.9       32.3\n",
      "Audi 100 Midsize                  Audi      100  Midsize        NaN       44.6\n",
      "BMW 535i Midsize                   BMW     535i  Midsize        NaN        NaN\n",
      "...                                ...      ...      ...        ...        ...\n",
      "Volkswagen Eurovan Van      Volkswagen  Eurovan      Van       16.6       22.7\n",
      "Volkswagen Passat Compact   Volkswagen   Passat  Compact       17.6       22.4\n",
      "Volkswagen Corrado Sporty   Volkswagen  Corrado   Sporty       22.9       23.7\n",
      "Volvo 240 Compact                Volvo      240  Compact       21.8       23.5\n",
      "missing 850 Midsize            missing      850  Midsize       24.8       28.5\n",
      "\n",
      "[93 rows x 5 columns]\n",
      "\n",
      "Является ли индекс первичным ключом: True\n"
     ]
    }
   ],
   "source": [
    "df = pd.read_csv('https://raw.githubusercontent.com/selva86/datasets/master/Cars93_miss.csv', usecols=[0,1,2,3,5])\n",
    "\n",
    "df[['Manufacturer', 'Model', 'Type']] = df[['Manufacturer', 'Model', 'Type']].fillna('missing')\n",
    "df['Index'] = df['Manufacturer'] + ' ' + df['Model'] + ' ' + df['Type']\n",
    "df.set_index('Index', inplace=True)\n",
    "is_unique = df.index.is_unique\n",
    "print(df)\n",
    "print(f\"\\nЯвляется ли индекс первичным ключом: {is_unique}\")"
   ]
  },
  {
   "cell_type": "markdown",
   "id": "b4edc9f0-c7ff-44fe-8dc9-56e340e5f730",
   "metadata": {},
   "source": [
    "50"
   ]
  },
  {
   "cell_type": "code",
   "execution_count": 51,
   "id": "873de097-59bc-410b-83a4-7032587e5677",
   "metadata": {},
   "outputs": [
    {
     "name": "stdout",
     "output_type": "stream",
     "text": [
      "    a   b   c\n",
      "0   7   2  16\n",
      "1   4  14  25\n",
      "2   4   7  20\n",
      "3   5   8   6\n",
      "4  19  17  26\n",
      "5  23   6   1\n",
      "6   9  12   4\n",
      "7   2  21  21\n",
      "8  14  24  17\n",
      "9  29   5   2\n",
      "Строка с 5-м наибольшим значением в столбце 'a': 6\n"
     ]
    }
   ],
   "source": [
    "df = pd.DataFrame(np.random.randint(1, 30, 30).reshape(10, -1), columns=list('abc'))\n",
    "print(df)\n",
    "print(f\"Строка с 5-м наибольшим значением в столбце 'a': {df['a'].nlargest(5).index[-1]}\")"
   ]
  },
  {
   "cell_type": "markdown",
   "id": "684d46d9-7eda-4eb4-80c1-1281a8c487c4",
   "metadata": {},
   "source": [
    "51"
   ]
  },
  {
   "cell_type": "code",
   "execution_count": 52,
   "id": "77d22831-2b17-4d71-9abd-b060bbfbe698",
   "metadata": {},
   "outputs": [
    {
     "name": "stdout",
     "output_type": "stream",
     "text": [
      "0     51\n",
      "1     73\n",
      "2     82\n",
      "3     30\n",
      "4     81\n",
      "5     84\n",
      "6     73\n",
      "7     71\n",
      "8     14\n",
      "9     61\n",
      "10    14\n",
      "11    95\n",
      "12     1\n",
      "13    62\n",
      "14    70\n",
      "dtype: int32\n",
      "Среднее значение: 57.47\n",
      "Значения, превышающие среднее: [73 82 81 84 73 71 61 95 62 70]\n",
      "2-е наибольшее значение, превышающее среднее: 84\n",
      "Положение 2-го наибольшего значения, превышающего среднее: 5\n"
     ]
    }
   ],
   "source": [
    "\n",
    "ser = pd.Series(np.random.randint(1, 100, 15))\n",
    "print(ser)\n",
    "\n",
    "mean_value = ser.mean()\n",
    "filtered_values = ser[ser > mean_value]\n",
    "second_largest_value = filtered_values.nlargest(2).iloc[-1]\n",
    "position = ser[ser == second_largest_value].index[0] \n",
    "\n",
    "print(f\"Среднее значение: {mean_value:.2f}\")\n",
    "print(f\"Значения, превышающие среднее: {filtered_values.values}\")\n",
    "print(f\"2-е наибольшее значение, превышающее среднее: {second_largest_value}\")\n",
    "print(f\"Положение 2-го наибольшего значения, превышающего среднее: {position}\")\n"
   ]
  },
  {
   "cell_type": "markdown",
   "id": "3da7d1cf-e04e-45fd-8c2c-88f49aef8e0e",
   "metadata": {},
   "source": [
    "52"
   ]
  },
  {
   "cell_type": "code",
   "execution_count": 53,
   "id": "fd6746a9-e709-42e6-ab61-f55c02d16eb4",
   "metadata": {},
   "outputs": [
    {
     "name": "stdout",
     "output_type": "stream",
     "text": [
      "     0   1   2   3\n",
      "9   17  16  34  35\n",
      "11  38  23  16  38\n"
     ]
    }
   ],
   "source": [
    "df = pd.DataFrame(np.random.randint(10, 40, 60).reshape(-1, 4))\n",
    "\n",
    "filtered_df = df[df.sum(axis=1) > 100]\n",
    "result = filtered_df.tail(2)\n",
    "\n",
    "print(result)\n"
   ]
  },
  {
   "cell_type": "markdown",
   "id": "4d2419ab-dac8-4d59-80b9-1b2b6f1e2545",
   "metadata": {},
   "source": [
    "53"
   ]
  },
  {
   "cell_type": "code",
   "execution_count": 54,
   "id": "7f2f059a-18b7-419e-9591-069bcfa35f2b",
   "metadata": {},
   "outputs": [
    {
     "name": "stdout",
     "output_type": "stream",
     "text": [
      "0      0.016049\n",
      "1      0.016049\n",
      "2      0.018874\n",
      "3      0.025929\n",
      "4      0.035622\n",
      "5      0.048939\n",
      "6      0.067234\n",
      "7      0.092367\n",
      "8      0.126896\n",
      "9      0.174333\n",
      "10     0.239503\n",
      "11     0.329034\n",
      "12     0.452035\n",
      "13     0.621017\n",
      "14     0.853168\n",
      "15     1.172102\n",
      "16     1.610262\n",
      "17     2.212216\n",
      "18     3.039195\n",
      "19     4.175319\n",
      "20     5.736153\n",
      "21     7.880463\n",
      "22    10.826367\n",
      "23    14.873521\n",
      "24    20.433597\n",
      "25    28.072162\n",
      "26    38.566204\n",
      "27    52.983169\n",
      "28    63.876672\n",
      "29    63.876672\n",
      "dtype: float64\n"
     ]
    }
   ],
   "source": [
    "ser = pd.Series(np.logspace(-2, 2, 30))\n",
    "\n",
    "percentile_5 = np.percentile(ser, 5)\n",
    "percentile_95 = np.percentile(ser, 95)\n",
    "ser = ser.apply(lambda x: percentile_5 if x < percentile_5 else (percentile_95 if x > percentile_95 else x))\n",
    "\n",
    "print(ser)"
   ]
  },
  {
   "cell_type": "markdown",
   "id": "34fbd988-6cdc-4634-a351-379161401747",
   "metadata": {},
   "source": [
    "54"
   ]
  },
  {
   "cell_type": "code",
   "execution_count": 55,
   "id": "4ae4589d-9fa6-4843-a196-7b5c82593fde",
   "metadata": {},
   "outputs": [
    {
     "name": "stdout",
     "output_type": "stream",
     "text": [
      "Исходный DataFrame:\n",
      "    0   1   2   3   4   5   6   7   8   9\n",
      "0   6 -14 -16  42  43  16  34  12 -11   6\n",
      "1  38  32 -20   5  -9  18  28  18  43  42\n",
      "2   9  31  19  37  19  23  -8  40  45  15\n",
      "3  -1 -16   8  41   9  28  11  31 -16  12\n",
      "4  25  -1   7  47  44  -4  23  44  44 -15\n",
      "5  -3  41  43  24  42  -5  30  -1  11   5\n",
      "6  -3  -5  17 -13   6   3  23  45  32  20\n",
      "7 -12  26  12  12  41  15  38  -7  12  37\n",
      "8  39  25  -5 -10  -5  29 -20  -2  11   8\n",
      "9  23  25  -8  24  23 -17 -15  44  49  33\n",
      "\n",
      "Преобразованный DataFrame:\n",
      "    0   1   2   3   4   5   6   7\n",
      "0   6  42  43  16  34  12   6  38\n",
      "1  32   5  18  28  18  43  42   9\n",
      "2  31  19  37  19  23  40  45  15\n",
      "3   8  41   9  28  11  31  12  25\n",
      "4   7  47  44  23  44  44  41  43\n",
      "5  24  42  30  11   5  17   6   3\n",
      "6  23  45  32  20  26  12  12  41\n",
      "7  15  38  12  37  39  25  29  11\n"
     ]
    }
   ],
   "source": [
    "\n",
    "# Создание исходного DataFrame с случайными целыми числами\n",
    "df = pd.DataFrame(np.random.randint(-20, 50, 100).reshape(10, -1))\n",
    "print(\"Исходный DataFrame:\")\n",
    "print(df)\n",
    "\n",
    "# Удаление отрицательных значений и преобразование в одномерный массив\n",
    "values = df.values.flatten()\n",
    "positive_values = values[values >= 0]\n",
    "\n",
    "# Нахождение размера наибольшего возможного квадрата\n",
    "n = int(np.floor(np.sqrt(len(positive_values))))\n",
    "square_size = n * n\n",
    "\n",
    "# Отбор необходимых значений и создание нового DataFrame\n",
    "square_values = positive_values[:square_size]\n",
    "square_df = pd.DataFrame(square_values.reshape(n, n))\n",
    "\n",
    "print(\"\\nПреобразованный DataFrame:\")\n",
    "print(square_df)\n"
   ]
  },
  {
   "cell_type": "markdown",
   "id": "6ee7479f-fffd-497c-b4a5-1bc1b59cf847",
   "metadata": {},
   "source": [
    "55"
   ]
  },
  {
   "cell_type": "code",
   "execution_count": 56,
   "id": "c605da89-0b0b-49c7-880b-9d2980094eea",
   "metadata": {},
   "outputs": [
    {
     "name": "stdout",
     "output_type": "stream",
     "text": [
      "    0   1   2   3   4\n",
      "0   0   1   2   3   4\n",
      "1  10  11  12  13  14\n",
      "2   5   6   7   8   9\n",
      "3  15  16  17  18  19\n",
      "4  20  21  22  23  24\n"
     ]
    }
   ],
   "source": [
    "df = pd.DataFrame(np.arange(25).reshape(5, -1))\n",
    "\n",
    "df.iloc[[1, 2]] = df.iloc[[2, 1]].values\n",
    "print(df)"
   ]
  },
  {
   "cell_type": "markdown",
   "id": "61687f20-1fc6-4318-b5bc-f21fa6d3580b",
   "metadata": {},
   "source": [
    "56"
   ]
  },
  {
   "cell_type": "code",
   "execution_count": 57,
   "id": "76a96709-a942-4f85-bf0f-e58bf3e1cad2",
   "metadata": {},
   "outputs": [
    {
     "name": "stdout",
     "output_type": "stream",
     "text": [
      "Исходный\n",
      "    0   1   2   3   4\n",
      "0   0   1   2   3   4\n",
      "1   5   6   7   8   9\n",
      "2  10  11  12  13  14\n",
      "3  15  16  17  18  19\n",
      "4  20  21  22  23  24\n",
      "Перевернутый\n",
      "    0   1   2   3   4\n",
      "4  20  21  22  23  24\n",
      "3  15  16  17  18  19\n",
      "2  10  11  12  13  14\n",
      "1   5   6   7   8   9\n",
      "0   0   1   2   3   4\n"
     ]
    }
   ],
   "source": [
    "df = pd.DataFrame(np.arange(25).reshape(5, -1))\n",
    "print(\"Исходный\")\n",
    "print(df)\n",
    "df = df.iloc[::-1]\n",
    "print(\"Перевернутый\")\n",
    "print(df)"
   ]
  },
  {
   "cell_type": "markdown",
   "id": "647813de-c404-4a9d-86ed-08ca558b789e",
   "metadata": {},
   "source": [
    "57"
   ]
  },
  {
   "cell_type": "code",
   "execution_count": 58,
   "id": "2e36cfa3-ebd6-4e94-8c4e-3fce15af73ef",
   "metadata": {},
   "outputs": [
    {
     "name": "stdout",
     "output_type": "stream",
     "text": [
      "Исходный DataFrame:\n",
      "    a   b   c   d   e\n",
      "0   0   1   2   3   4\n",
      "1   5   6   7   8   9\n",
      "2  10  11  12  13  14\n",
      "3  15  16  17  18  19\n",
      "4  20  21  22  23  24\n",
      "\n",
      "DataFrame с бинарным кодом:\n",
      "   0  5  10  15  20   b   c   d   e\n",
      "0  1  0   0   0   0   1   2   3   4\n",
      "1  0  1   0   0   0   6   7   8   9\n",
      "2  0  0   1   0   0  11  12  13  14\n",
      "3  0  0   0   1   0  16  17  18  19\n",
      "4  0  0   0   0   1  21  22  23  24\n"
     ]
    }
   ],
   "source": [
    "df = pd.DataFrame(np.arange(25).reshape(5, -1), columns=list('abcde'))\n",
    "\n",
    "binary_cols = pd.get_dummies(df['a'], prefix='', prefix_sep='')\n",
    "binary_cols.columns = [str(col) for col in binary_cols.columns]\n",
    "binary_cols = binary_cols.astype(int) # true и false в 0 и 1\n",
    "df_binary = pd.concat([binary_cols, df.drop('a', axis=1)], axis=1)\n",
    "print(\"Исходный DataFrame:\")\n",
    "print(df)\n",
    "print(\"\\nDataFrame с бинарным кодом:\")\n",
    "print(df_binary)"
   ]
  },
  {
   "cell_type": "markdown",
   "id": "0fb6621f-55c0-4e2a-8aef-105d7543bd1a",
   "metadata": {},
   "source": [
    "58"
   ]
  },
  {
   "cell_type": "code",
   "execution_count": 59,
   "id": "e4752c89-6171-4007-8ecd-77e692db58c1",
   "metadata": {},
   "outputs": [
    {
     "name": "stdout",
     "output_type": "stream",
     "text": [
      "Исходный DataFrame:\n",
      "    0   1   2   3\n",
      "0  90  26  69  79\n",
      "1  75  50  67  36\n",
      "2  28   4  53  32\n",
      "3  93  60  35  43\n",
      "4  47  15  10  30\n",
      "5  99  35  11  20\n",
      "6  94  12  71  72\n",
      "7  77  46  15  34\n",
      "8  18  96  55   5\n",
      "9  60  77  41   3\n",
      "\n",
      "Название столбца с наибольшим количеством максимальных значений:\n",
      "0\n"
     ]
    }
   ],
   "source": [
    "\n",
    "df = pd.DataFrame(np.random.randint(1,100, 40).reshape(10, -1))\n",
    "print(\"Исходный DataFrame:\")\n",
    "print(df)\n",
    "\n",
    "# Определение количества максимальных значений в каждом столбце\n",
    "max_counts = df.apply(lambda col: (col == col.max()).sum())\n",
    "\n",
    "# Нахождение столбца с наибольшим количеством максимальных значений\n",
    "column_with_most_max = max_counts.idxmax()\n",
    "\n",
    "print(\"\\nНазвание столбца с наибольшим количеством максимальных значений:\")\n",
    "print(column_with_most_max)\n"
   ]
  },
  {
   "cell_type": "markdown",
   "id": "c7313433-2a74-4079-83cc-37a7512b107b",
   "metadata": {},
   "source": [
    "59"
   ]
  },
  {
   "cell_type": "code",
   "execution_count": 60,
   "id": "577973b9-7c5f-4b4e-8145-3147525b0056",
   "metadata": {},
   "outputs": [
    {
     "name": "stdout",
     "output_type": "stream",
     "text": [
      "Исходный DataFrame:\n",
      "    p   q   r   s\n",
      "a  72  74  50  21\n",
      "b  95  99  79  40\n",
      "c  26  78  69  90\n",
      "d  94  71  55  14\n",
      "e  79  29  54  57\n",
      "f  15  66  58  46\n",
      "g  26  36  95  56\n",
      "h  43  70  35  46\n",
      "i  24  60  88  99\n",
      "j  13  90  97  31\n",
      "\n",
      "DataFrame с ближайшими строками:\n",
      "    p   q   r   s closest_row\n",
      "a  72  74  50  21           d\n",
      "b  95  99  79  40           d\n",
      "c  26  78  69  90           i\n",
      "d  94  71  55  14           a\n",
      "e  79  29  54  57           a\n",
      "f  15  66  58  46           h\n",
      "g  26  36  95  56           i\n",
      "h  43  70  35  46           f\n",
      "i  24  60  88  99           c\n",
      "j  13  90  97  31           f\n"
     ]
    }
   ],
   "source": [
    "from scipy.spatial import distance\n",
    "\n",
    "df = pd.DataFrame(np.random.randint(1, 100, 40).reshape(10, -1), columns=list('pqrs'), index=list('abcdefghij'))\n",
    "print(\"Исходный DataFrame:\")\n",
    "print(df)\n",
    "\n",
    "# Функция для нахождения ближайшей строки по евклидовому расстоянию\n",
    "def find_closest_row(row, data):\n",
    "    distances = data.apply(lambda x: distance.euclidean(row, x), axis=1)\n",
    "    closest_row_index = distances[distances > 0].idxmin()\n",
    "    return closest_row_index\n",
    "\n",
    "# Применение функции ко всем строкам\n",
    "df['closest_row'] = df.apply(lambda row: find_closest_row(row, df.drop('closest_row', axis=1, errors='ignore')), axis=1)\n",
    "\n",
    "print(\"\\nDataFrame с ближайшими строками:\")\n",
    "print(df)\n"
   ]
  },
  {
   "cell_type": "markdown",
   "id": "c165b7ad-e733-415e-b4cd-de732bb0c252",
   "metadata": {},
   "source": [
    "60"
   ]
  },
  {
   "cell_type": "code",
   "execution_count": 61,
   "id": "39375db6-7244-42eb-aa1d-ca886ee0462b",
   "metadata": {},
   "outputs": [
    {
     "name": "stdout",
     "output_type": "stream",
     "text": [
      "Корреляционная матрица:\n",
      "          p         q         r         s         t         u         v  \\\n",
      "p  1.000000  0.307834 -0.080207 -0.121024 -0.405853  0.038334 -0.215536   \n",
      "q  0.307834  1.000000  0.100764 -0.065866 -0.564022 -0.414268  0.483644   \n",
      "r -0.080207  0.100764  1.000000  0.210905  0.441910 -0.046312  0.270838   \n",
      "s -0.121024 -0.065866  0.210905  1.000000  0.036425 -0.027677  0.257575   \n",
      "t -0.405853 -0.564022  0.441910  0.036425  1.000000 -0.149735 -0.556721   \n",
      "u  0.038334 -0.414268 -0.046312 -0.027677 -0.149735  1.000000  0.015167   \n",
      "v -0.215536  0.483644  0.270838  0.257575 -0.556721  0.015167  1.000000   \n",
      "w  0.231921  0.487482  0.351584 -0.195273  0.172916 -0.526516 -0.034178   \n",
      "x -0.445955 -0.358355  0.659894 -0.161528  0.543111  0.014108  0.199537   \n",
      "y -0.319815 -0.179332 -0.216564  0.137913 -0.009886  0.634633 -0.043951   \n",
      "\n",
      "          w         x         y  \n",
      "p  0.231921 -0.445955 -0.319815  \n",
      "q  0.487482 -0.358355 -0.179332  \n",
      "r  0.351584  0.659894 -0.216564  \n",
      "s -0.195273 -0.161528  0.137913  \n",
      "t  0.172916  0.543111 -0.009886  \n",
      "u -0.526516  0.014108  0.634633  \n",
      "v -0.034178  0.199537 -0.043951  \n",
      "w  1.000000  0.182236 -0.166839  \n",
      "x  0.182236  1.000000 -0.206949  \n",
      "y -0.166839 -0.206949  1.000000  \n",
      "\n",
      "Максимально возможное абсолютное значение корреляции для каждого столбца (исключая себя):\n",
      "p    0.445955\n",
      "q    0.564022\n",
      "r    0.659894\n",
      "s    0.257575\n",
      "t    0.564022\n",
      "u    0.634633\n",
      "v    0.556721\n",
      "w    0.526516\n",
      "x    0.659894\n",
      "y    0.634633\n",
      "dtype: float64\n"
     ]
    }
   ],
   "source": [
    "df = pd.DataFrame(np.random.randint(1, 100, 80).reshape(8, -1), columns=list('pqrstuvwxy'), index=list('abcdefgh'))\n",
    "\n",
    "correlation_matrix = df.corr()\n",
    "max_absolute_correlation = correlation_matrix.apply(lambda x: x.abs().nlargest(2).iloc[1])\n",
    "\n",
    "print(\"Корреляционная матрица:\")\n",
    "print(correlation_matrix)\n",
    "print(\"\\nМаксимально возможное абсолютное значение корреляции для каждого столбца (исключая себя):\")\n",
    "print(max_absolute_correlation)"
   ]
  },
  {
   "cell_type": "markdown",
   "id": "d9f20183-9261-43f8-9466-0f60eee517d4",
   "metadata": {},
   "source": [
    "61"
   ]
  },
  {
   "cell_type": "code",
   "execution_count": 62,
   "id": "e1b40819-7b51-443f-b53e-d16271b691ac",
   "metadata": {},
   "outputs": [
    {
     "name": "stdout",
     "output_type": "stream",
     "text": [
      "Исходный DataFrame:\n",
      "    0   1   2   3   4   5   6   7   8   9\n",
      "0  59  19  46  77  94  37   6  98  81  29\n",
      "1  22  81  81  47  29  83  76   8  38  73\n",
      "2  99  77  27  73  91  24  58   3   1  34\n",
      "3  57  39  90  72  82  53  90  59  93  43\n",
      "4  71  11  37  66  25   8  26  41  26  19\n",
      "5  73  17  61  80  47  19  94  71  70  80\n",
      "6  98  79  19  96  95  31  12  42  72  98\n",
      "7  55   1  74  84  58  84  87  24  68  74\n",
      "\n",
      "DataFrame с добавленным столбцом min_max_diff:\n",
      "    0   1   2   3   4   5   6   7   8   9  min_max_diff\n",
      "0  59  19  46  77  94  37   6  98  81  29            92\n",
      "1  22  81  81  47  29  83  76   8  38  73            75\n",
      "2  99  77  27  73  91  24  58   3   1  34            98\n",
      "3  57  39  90  72  82  53  90  59  93  43            54\n",
      "4  71  11  37  66  25   8  26  41  26  19            63\n",
      "5  73  17  61  80  47  19  94  71  70  80            77\n",
      "6  98  79  19  96  95  31  12  42  72  98            86\n",
      "7  55   1  74  84  58  84  87  24  68  74            86\n"
     ]
    }
   ],
   "source": [
    "df = pd.DataFrame(np.random.randint(1, 100, 80).reshape(8, -1))\n",
    "print(\"Исходный DataFrame:\")\n",
    "print(df)\n",
    "\n",
    "min_values = df.min(axis=1)\n",
    "max_values = df.max(axis=1)\n",
    "min_max_diff = max_values - min_values\n",
    "df['min_max_diff'] = min_max_diff\n",
    "\n",
    "print(\"\\nDataFrame с добавленным столбцом min_max_diff:\")\n",
    "print(df)"
   ]
  },
  {
   "cell_type": "markdown",
   "id": "54001d76-f20f-4cfd-9aa7-c45aa54572fa",
   "metadata": {},
   "source": [
    "62"
   ]
  },
  {
   "cell_type": "code",
   "execution_count": 63,
   "id": "9ae4bc53-e88d-4f71-8096-6d324df51ab6",
   "metadata": {},
   "outputs": [
    {
     "name": "stdout",
     "output_type": "stream",
     "text": [
      "Исходный DataFrame:\n",
      "    0   1   2   3   4   5   6   7   8   9\n",
      "0  88  55   2  17  42  23   8  91  51  56\n",
      "1  37  89  78  27  31  33  79   4  22  62\n",
      "2  60  17  54  46  44  12  47  96  26  98\n",
      "3  42  93  18  98   3  98  87  59   3  48\n",
      "4  13  99   7  15  14  92  16  10  79  83\n",
      "5  76  64  87  68  42  93  40  70  28  10\n",
      "6  56  83  47  22  49  18  85  91  43  87\n",
      "7  70  92  72  87  79  79  87  31  78  68\n",
      "\n",
      "DataFrame с добавленным столбцом 'penultimate':\n",
      "    0   1   2   3   4   5   6   7   8   9  penultimate\n",
      "0  88  55   2  17  42  23   8  91  51  56           88\n",
      "1  37  89  78  27  31  33  79   4  22  62           79\n",
      "2  60  17  54  46  44  12  47  96  26  98           96\n",
      "3  42  93  18  98   3  98  87  59   3  48           98\n",
      "4  13  99   7  15  14  92  16  10  79  83           92\n",
      "5  76  64  87  68  42  93  40  70  28  10           87\n",
      "6  56  83  47  22  49  18  85  91  43  87           87\n",
      "7  70  92  72  87  79  79  87  31  78  68           87\n"
     ]
    }
   ],
   "source": [
    "df = pd.DataFrame(np.random.randint(1, 100, 80).reshape(8, -1))\n",
    "print(\"Исходный DataFrame:\")\n",
    "print(df)\n",
    "\n",
    "def second_largest(row):\n",
    "    return row.nlargest(2).iloc[1]\n",
    "\n",
    "df['penultimate'] = df.apply(second_largest, axis=1)\n",
    "\n",
    "print(\"\\nDataFrame с добавленным столбцом 'penultimate':\")\n",
    "print(df)"
   ]
  },
  {
   "cell_type": "markdown",
   "id": "e140efe5-3460-4bb4-8bae-e4b12bfdf845",
   "metadata": {},
   "source": [
    "63"
   ]
  },
  {
   "cell_type": "code",
   "execution_count": 64,
   "id": "e8be6444-f37e-4224-8ad7-f1386e0cf1e4",
   "metadata": {},
   "outputs": [
    {
     "name": "stdout",
     "output_type": "stream",
     "text": [
      "Исходный DataFrame:\n",
      "    0   1   2   3   4   5   6   7   8   9\n",
      "0  94  77  21  41  59  13  86  14  88  11\n",
      "1  82  48   5  43  74  25  13  66  13  83\n",
      "2   7  19   2  18  54  48   3  65  30  63\n",
      "3  80  32  37  44  38  20  43  47  23  20\n",
      "4  71  48  82  18  89  37   9  92  99  62\n",
      "5  79  32  33  37  27  47  76  87  63  66\n",
      "6  89  39  63  68   2  92  87  59  94  17\n",
      "7  79  28  93  32  67   3  39  84  99  95\n",
      "\n",
      "Нормализованный DataFrame:\n",
      "          0         1         2         3         4         5         6  \\\n",
      "0  0.779920  2.061308 -0.615144  0.210126  0.277813 -0.814904  1.188977   \n",
      "1  0.342070  0.429146 -1.083824  0.334644  0.815515 -0.382690 -0.902477   \n",
      "2 -2.394491 -1.203016 -1.171702 -1.221841  0.098579  0.445721 -1.188977   \n",
      "3  0.269095 -0.471357 -0.146463  0.396904 -0.474970 -0.562779 -0.042975   \n",
      "4 -0.059292  0.429146  1.171702 -1.221841  1.353217  0.049525 -1.017077   \n",
      "5  0.232608 -0.471357 -0.263633 -0.038912 -0.869285  0.409703  0.902477   \n",
      "6  0.597483 -0.077387  0.615144  1.891130 -1.765455  2.030508  1.217627   \n",
      "7  0.232608 -0.696483  1.493920 -0.350209  0.564587 -1.175083 -0.157575   \n",
      "\n",
      "          7         8         9  \n",
      "0 -1.974986  0.666447 -1.286155  \n",
      "1  0.068781 -1.384160  0.965593  \n",
      "2  0.029477 -0.919356  0.340108  \n",
      "3 -0.677980 -1.110746 -1.004686  \n",
      "4  1.090664  0.967203  0.308834  \n",
      "5  0.894148 -0.017088  0.433931  \n",
      "6 -0.206342  0.830496 -1.098509  \n",
      "7  0.776238  0.967203  1.340885  \n",
      "\n",
      "Ранжированный нормализованный DataFrame:\n",
      "          0         1         2     3         4         5         6         7  \\\n",
      "0  1.000000  1.000000  0.208791  0.46  0.655172  0.112360  0.988095  0.000000   \n",
      "1  0.862069  0.500000  0.032967  0.50  0.827586  0.247191  0.119048  0.666667   \n",
      "2  0.000000  0.000000  0.000000  0.00  0.597701  0.505618  0.000000  0.653846   \n",
      "3  0.839080  0.224138  0.384615  0.52  0.413793  0.191011  0.476190  0.423077   \n",
      "4  0.735632  0.500000  0.879121  0.00  1.000000  0.382022  0.071429  1.000000   \n",
      "5  0.827586  0.224138  0.340659  0.38  0.287356  0.494382  0.869048  0.935897   \n",
      "6  0.942529  0.344828  0.670330  1.00  0.000000  1.000000  1.000000  0.576923   \n",
      "7  0.827586  0.155172  1.000000  0.28  0.747126  0.000000  0.428571  0.897436   \n",
      "\n",
      "          8         9  \n",
      "0  0.872093  0.000000  \n",
      "1  0.000000  0.857143  \n",
      "2  0.197674  0.619048  \n",
      "3  0.116279  0.107143  \n",
      "4  1.000000  0.607143  \n",
      "5  0.581395  0.654762  \n",
      "6  0.941860  0.071429  \n",
      "7  1.000000  1.000000  \n"
     ]
    }
   ],
   "source": [
    "df = pd.DataFrame(np.random.randint(1, 100, 80).reshape(8, -1))\n",
    "print(\"Исходный DataFrame:\")\n",
    "print(df)\n",
    "\n",
    "# Шаг 1: Нормализация столбцов\n",
    "df = (df - df.mean()) / df.std()\n",
    "print(\"\\nНормализованный DataFrame:\")\n",
    "print(df)\n",
    "\n",
    "# Шаг 2: Ранжирование столбцов\n",
    "df = (df - df.min()) / (df.max() - df.min())\n",
    "print(\"\\nРанжированный нормализованный DataFrame:\")\n",
    "print(df)"
   ]
  },
  {
   "cell_type": "markdown",
   "id": "8e63dee0-b4b8-49b0-9159-7ca87841bf5b",
   "metadata": {},
   "source": [
    "64"
   ]
  },
  {
   "cell_type": "code",
   "execution_count": 65,
   "id": "9d53c210-7e4a-41b9-80b8-b72dab30933b",
   "metadata": {},
   "outputs": [
    {
     "name": "stdout",
     "output_type": "stream",
     "text": [
      "Исходный DataFrame:\n",
      "    0   1   2   3   4   5   6   7   8   9\n",
      "0   5  13  77  48  58  88  85  80  60  77\n",
      "1  76  77  33  27   4  55  54  67  64  95\n",
      "2  12  47  94  53  38  63   2   7   8  95\n",
      "3  47  17  57  74  90  95  52  50  90  97\n",
      "4  42  66  38  70  69  13  33  42  64   5\n",
      "5  13  71  45  45   4  84  42  54  83   1\n",
      "6  85  14  32  71  62  72   3  64   7  96\n",
      "7  47  37  86  80  84  93  70  98  62  25\n",
      "\n",
      "Корреляции между каждой строкой и последующей строкой:\n",
      "   Строка 1  Строка 2  Корреляция\n",
      "0         0         1   -0.171355\n",
      "1         1         2   -0.039123\n",
      "2         2         3    0.288937\n",
      "3         3         4   -0.293841\n",
      "4         4         5    0.140713\n",
      "5         5         6   -0.547375\n",
      "6         6         7   -0.045611\n"
     ]
    }
   ],
   "source": [
    "df = pd.DataFrame(np.random.randint(1, 100, 80).reshape(8, -1))\n",
    "\n",
    "correlations = []\n",
    "for i in range(len(df) - 1):\n",
    "    corr = df.iloc[i].corr(df.iloc[i + 1])\n",
    "    correlations.append(corr)\n",
    "\n",
    "result_df = pd.DataFrame({\n",
    "    'Строка 1': df.index[:-1],\n",
    "    'Строка 2': df.index[1:],\n",
    "    'Корреляция': correlations\n",
    "})\n",
    "\n",
    "print(\"Исходный DataFrame:\")\n",
    "print(df)\n",
    "print(\"\\nКорреляции между каждой строкой и последующей строкой:\")\n",
    "print(result_df)"
   ]
  },
  {
   "cell_type": "markdown",
   "id": "16501bad-616d-4532-a919-e5228deb9acd",
   "metadata": {},
   "source": [
    "65"
   ]
  },
  {
   "cell_type": "code",
   "execution_count": 66,
   "id": "55bd0aa2-f250-4ddb-a0e2-ae396a26a12f",
   "metadata": {},
   "outputs": [
    {
     "name": "stdout",
     "output_type": "stream",
     "text": [
      "DataFrame с замененными значениями в диагоналях:\n",
      "    0   1   2   3   4   5   6   7   8   9\n",
      "0   0  99  41   6   8  93  26  12  44   0\n",
      "1  20   0  23  54  80   4  74  43   0  45\n",
      "2  14  52   0  60  80  66  71   0  83  59\n",
      "3  13  38  56   0  96  40   0  21  47  24\n",
      "4  91  20  19  79   0   0  55  23  91  68\n",
      "5   3  51  62  64   0   0  28  88  10  41\n",
      "6  28  87  49   0  66  84   0  86  36  52\n",
      "7  29  16   0  58  54  22  21   0  37  59\n",
      "8  24   0  97  96  76  12  95  24   0  91\n",
      "9   0  12  20  23  80  95  97  65  70   0\n"
     ]
    }
   ],
   "source": [
    "df = pd.DataFrame(np.random.randint(1, 100, 100).reshape(10, -1))\n",
    "\n",
    "np.fill_diagonal(df.values, 0)\n",
    "for i in range(len(df)):\n",
    "    df.iat[i, len(df) - 1 - i] = 0\n",
    "print(\"DataFrame с замененными значениями в диагоналях:\")\n",
    "print(df)"
   ]
  },
  {
   "cell_type": "markdown",
   "id": "3b7747d1-3f35-4878-bf35-eab61527c0e1",
   "metadata": {},
   "source": [
    "66"
   ]
  },
  {
   "cell_type": "code",
   "execution_count": 67,
   "id": "a5d21731-c46f-47cf-b158-e99cdff829e6",
   "metadata": {},
   "outputs": [
    {
     "name": "stdout",
     "output_type": "stream",
     "text": [
      "Исходный DataFrame:\n",
      "     col1      col2  col3\n",
      "0   apple  0.400297     7\n",
      "1  banana  0.651520     6\n",
      "2  orange  0.376181     9\n",
      "3   apple  0.177634     3\n",
      "4  banana  0.025713     3\n",
      "5  orange  0.916625     2\n",
      "6   apple  0.603358     8\n",
      "7  banana  0.797068     8\n",
      "8  orange  0.659814     0\n",
      "\n",
      "Группа, относящаяся к 'apple':\n",
      "    col1      col2  col3\n",
      "0  apple  0.400297     7\n",
      "3  apple  0.177634     3\n",
      "6  apple  0.603358     8\n"
     ]
    }
   ],
   "source": [
    "df = pd.DataFrame({\n",
    "    'col1': ['apple', 'banana', 'orange'] * 3,\n",
    "    'col2': np.random.rand(9),\n",
    "    'col3': np.random.randint(0, 15, 9)\n",
    "})\n",
    "\n",
    "df_grouped = df.groupby('col1')\n",
    "print(\"Исходный DataFrame:\")\n",
    "print(df)\n",
    "print(\"\\nГруппа, относящаяся к 'apple':\")\n",
    "print(df_grouped.get_group('apple'))"
   ]
  },
  {
   "cell_type": "markdown",
   "id": "a8282377-2bcd-469c-b395-25e691cffff7",
   "metadata": {},
   "source": [
    "67"
   ]
  },
  {
   "cell_type": "code",
   "execution_count": 68,
   "id": "cd89b2f3-5ac0-43c2-957d-5335ef700caa",
   "metadata": {},
   "outputs": [
    {
     "name": "stdout",
     "output_type": "stream",
     "text": [
      "Исходный DataFrame:\n",
      "    fruit    rating  price\n",
      "0   apple  0.176711     14\n",
      "1  banana  0.928590      3\n",
      "2  orange  0.787687      4\n",
      "3   apple  0.780645     11\n",
      "4  banana  0.682328      1\n",
      "5  orange  0.345731      9\n",
      "6   apple  0.875946     11\n",
      "7  banana  0.948196      1\n",
      "8  orange  0.578605     13\n",
      "\n",
      "Второе по величине значение 'rating' для 'banana':\n",
      "0.9285904010223758\n"
     ]
    }
   ],
   "source": [
    "df = pd.DataFrame({\n",
    "    'fruit': ['apple', 'banana', 'orange'] * 3,\n",
    "    'rating': np.random.rand(9),\n",
    "    'price': np.random.randint(0, 15, 9)\n",
    "})\n",
    "\n",
    "banana_ratings = df[df['fruit'] == 'banana']['rating']\n",
    "print(\"Исходный DataFrame:\")\n",
    "print(df)\n",
    "print(\"\\nВторое по величине значение 'rating' для 'banana':\")\n",
    "print(banana_ratings.nlargest(2).iloc[-1])"
   ]
  },
  {
   "cell_type": "markdown",
   "id": "dfa7fbcb-61ab-4349-9313-1910590a3009",
   "metadata": {},
   "source": [
    "68"
   ]
  },
  {
   "cell_type": "code",
   "execution_count": 69,
   "id": "f29d6001-5f21-4553-8ab0-da06d69fde76",
   "metadata": {},
   "outputs": [
    {
     "name": "stdout",
     "output_type": "stream",
     "text": [
      "Исходный DataFrame:\n",
      "    fruit    rating  price\n",
      "0   apple  0.414792      2\n",
      "1  banana  0.158193      9\n",
      "2  orange  0.323299      1\n",
      "3   apple  0.895558      3\n",
      "4  banana  0.689383      1\n",
      "5  orange  0.928206      6\n",
      "6   apple  0.562528      5\n",
      "7  banana  0.396015      8\n",
      "8  orange  0.095548      7\n",
      "\n",
      "Средняя цена каждого фрукта:\n",
      "    fruit     price\n",
      "0   apple  3.333333\n",
      "1  banana  6.000000\n",
      "2  orange  4.666667\n"
     ]
    }
   ],
   "source": [
    "df = pd.DataFrame({\n",
    "    'fruit': ['apple', 'banana', 'orange'] * 3,\n",
    "    'rating': np.random.rand(9),\n",
    "    'price': np.random.randint(0, 15, 9)\n",
    "})\n",
    "\n",
    "print(\"Исходный DataFrame:\")\n",
    "print(df)\n",
    "print(\"\\nСредняя цена каждого фрукта:\")\n",
    "print(df.groupby('fruit', as_index=False)['price'].mean())"
   ]
  },
  {
   "cell_type": "markdown",
   "id": "3b57038e-7949-4398-acdd-cb008a36baa1",
   "metadata": {},
   "source": [
    "69"
   ]
  },
  {
   "cell_type": "code",
   "execution_count": 70,
   "id": "f6168477-b761-4dd0-8e2e-77ea30b8ae58",
   "metadata": {},
   "outputs": [
    {
     "name": "stdout",
     "output_type": "stream",
     "text": [
      "Исходный DataFrame df1:\n",
      "    fruit  weight  price\n",
      "0   apple    high      0\n",
      "1  banana  medium     14\n",
      "2  orange     low      4\n",
      "3   apple    high      2\n",
      "4  banana  medium      3\n",
      "5  orange     low      8\n",
      "6   apple    high      4\n",
      "7  banana  medium      1\n",
      "8  orange     low     14\n",
      "\n",
      "Исходный DataFrame df2:\n",
      "   pazham  kilo  price\n",
      "0   apple  high     13\n",
      "1  orange   low      5\n",
      "2    pine  high     10\n",
      "3   apple   low      1\n",
      "4  orange  high      9\n",
      "5    pine   low      9\n",
      "\n",
      "Объединенный DataFrame:\n",
      "    fruit weight  price_x  pazham  kilo  price_y\n",
      "0   apple   high        0   apple  high       13\n",
      "1  orange    low        4  orange   low        5\n",
      "2   apple   high        2   apple  high       13\n",
      "3  orange    low        8  orange   low        5\n",
      "4   apple   high        4   apple  high       13\n",
      "5  orange    low       14  orange   low        5\n"
     ]
    }
   ],
   "source": [
    "df1 = pd.DataFrame({\n",
    "    'fruit': ['apple', 'banana', 'orange'] * 3,\n",
    "    'weight': ['high', 'medium', 'low'] * 3,\n",
    "    'price': np.random.randint(0, 15, 9)\n",
    "})\n",
    "df2 = pd.DataFrame({\n",
    "    'pazham': ['apple', 'orange', 'pine'] * 2,\n",
    "    'kilo': ['high', 'low'] * 3,\n",
    "    'price': np.random.randint(0, 15, 6)\n",
    "})\n",
    "\n",
    "print(\"Исходный DataFrame df1:\")\n",
    "print(df1)\n",
    "print(\"\\nИсходный DataFrame df2:\")\n",
    "print(df2)\n",
    "print(\"\\nОбъединенный DataFrame:\")\n",
    "print(pd.merge(df1, df2, left_on=['fruit', 'weight'], right_on=['pazham', 'kilo']))"
   ]
  },
  {
   "cell_type": "markdown",
   "id": "cb80ddd6-c626-449e-9e8a-5ac5155ea9b8",
   "metadata": {},
   "source": [
    "70"
   ]
  },
  {
   "cell_type": "code",
   "execution_count": 71,
   "id": "023b3138-2bec-4201-a68e-6ba3647e3689",
   "metadata": {},
   "outputs": [
    {
     "name": "stdout",
     "output_type": "stream",
     "text": [
      "Исходный DataFrame:\n",
      "    a   b   c   d\n",
      "0  21   1  91   7\n",
      "1  75  50  74  67\n",
      "2  16  36  11  10\n",
      "3  93  99   6  37\n",
      "4  99  41   6  11\n",
      "\n",
      "DataFrame с добавленными столбцами 'a_lag1' и 'b_lead1':\n",
      "    a   b   c   d  a_lag1  b_lead1\n",
      "0  21   1  91   7     NaN     50.0\n",
      "1  75  50  74  67    21.0     36.0\n",
      "2  16  36  11  10    75.0     99.0\n",
      "3  93  99   6  37    16.0     41.0\n",
      "4  99  41   6  11    93.0      NaN\n"
     ]
    }
   ],
   "source": [
    "df = pd.DataFrame(np.random.randint(1, 100, 20).reshape(-1, 4), columns=list('abcd'))\n",
    "print(\"Исходный DataFrame:\")\n",
    "print(df)\n",
    "\n",
    "df['a_lag1'] = df['a'].shift(1)\n",
    "df['b_lead1'] = df['b'].shift(-1)\n",
    "print(\"\\nDataFrame с добавленными столбцами 'a_lag1' и 'b_lead1':\")\n",
    "print(df)"
   ]
  },
  {
   "cell_type": "markdown",
   "id": "35fdf944-4754-4ecd-8c1b-ac003396cffd",
   "metadata": {},
   "source": [
    "71"
   ]
  },
  {
   "cell_type": "code",
   "execution_count": 72,
   "id": "3fedafe2-e3fb-4251-897f-138042d93671",
   "metadata": {},
   "outputs": [
    {
     "name": "stdout",
     "output_type": "stream",
     "text": [
      "Исходный DataFrame:\n",
      "   a  b  c  d\n",
      "0  1  2  5  9\n",
      "1  2  4  3  4\n",
      "2  1  4  2  8\n",
      "3  2  1  8  7\n",
      "4  2  2  7  3\n",
      "\n",
      "Частоты уникальных значений по всему DataFrame:\n",
      "1    3\n",
      "2    6\n",
      "3    2\n",
      "4    3\n",
      "5    1\n",
      "7    2\n",
      "8    2\n",
      "9    1\n",
      "Name: count, dtype: int64\n"
     ]
    }
   ],
   "source": [
    "df = pd.DataFrame(np.random.randint(1, 10, 20).reshape(-1, 4), columns=list('abcd'))\n",
    "\n",
    "print(\"Исходный DataFrame:\")\n",
    "print(df)\n",
    "print(\"\\nЧастоты уникальных значений по всему DataFrame:\")\n",
    "print(df.stack().value_counts().sort_index())"
   ]
  },
  {
   "cell_type": "markdown",
   "id": "f7a7f7f4-a21c-440d-9b69-44e3d84a16ac",
   "metadata": {},
   "source": [
    "72"
   ]
  },
  {
   "cell_type": "code",
   "execution_count": 73,
   "id": "f7b5ebb6-92ca-483e-99be-391ce81be5f9",
   "metadata": {},
   "outputs": [
    {
     "name": "stdout",
     "output_type": "stream",
     "text": [
      "                        row\n",
      "0          STD, City\\tState\n",
      "1  33, Kolkata\\tWest Bengal\n",
      "2   44, Chennai\\tTamil Nadu\n",
      "3  40, Hyderabad\\tTelengana\n",
      "4  80, Bangalore\\tKarnataka\n",
      "\n",
      "Разделённый DataFrame:\n",
      "  STD        City        State\n",
      "1  33     Kolkata  West Bengal\n",
      "2  44     Chennai   Tamil Nadu\n",
      "3  40   Hyderabad    Telengana\n",
      "4  80   Bangalore    Karnataka\n"
     ]
    }
   ],
   "source": [
    "df = pd.DataFrame([\"STD, City\\tState\",\n",
    "                   \"33, Kolkata\\tWest Bengal\",\n",
    "                   \"44, Chennai\\tTamil Nadu\",\n",
    "                   \"40, Hyderabad\\tTelengana\",\n",
    "                   \"80, Bangalore\\tKarnataka\"], \n",
    "                  columns=['row'])\n",
    "print(df)\n",
    "\n",
    "df = df['row'].iloc[1:].str.split('[,\\t]', expand=True)\n",
    "df.columns = ['STD', 'City', 'State']\n",
    "print(\"\\nРазделённый DataFrame:\")\n",
    "print(df)"
   ]
  },
  {
   "cell_type": "code",
   "execution_count": null,
   "id": "86a71147-26e4-48c9-b216-5c3002684d6f",
   "metadata": {},
   "outputs": [],
   "source": []
  }
 ],
 "metadata": {
  "kernelspec": {
   "display_name": "Python 3 (ipykernel)",
   "language": "python",
   "name": "python3"
  },
  "language_info": {
   "codemirror_mode": {
    "name": "ipython",
    "version": 3
   },
   "file_extension": ".py",
   "mimetype": "text/x-python",
   "name": "python",
   "nbconvert_exporter": "python",
   "pygments_lexer": "ipython3",
   "version": "3.13.0"
  }
 },
 "nbformat": 4,
 "nbformat_minor": 5
}
